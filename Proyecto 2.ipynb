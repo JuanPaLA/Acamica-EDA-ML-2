{
 "cells": [
  {
   "cell_type": "markdown",
   "metadata": {},
   "source": [
    "# Consigna\n",
    "En este proyecto profundizarás lo desarrollado en el proyecto 01 (“Primer modelo de Machine Learning”). El objetivo es aplicar las técnicas incorporadas (Transformación de Datos, Optimización de Hiperparámetros, Modelos Avanzados, etc.) para generar un modelo que tenga un mejor desempeño que el modelo generado en el proyecto anterior. Luego, interpreta ese modelo para responder la siguiente pregunta: ¿qué podemos aprender de nuestro problema estudiando el modelo que generamos?\n",
    "\n",
    "<strong>El trabajo se organiza en tres partes:</strong>\n",
    "\n",
    "## PARTE A - Transformación de Datos\n",
    "\n",
    "Elige cuáles de las siguientes tareas son apropiadas para su dataset. Implementa las transformaciones que elegiste. Es importante que justifiques por qué las haces:\n",
    "\n",
    "1. Detección y eliminación de Outliers\n",
    "\n",
    "2. Encoding\n",
    "\n",
    "3. Imputación de valores faltantes\n",
    "\n",
    "4. Escalado de datos\n",
    "\n",
    "5. Generación de nuevas variables predictoras/reducción de dimensionalidad (SVD/PCA).\n",
    "\n",
    "Vuelve a entrenar el modelo implementado en la Entrega 01 - en particular, el árbol de decisión - con este nuevo dataset transformado . Evalúa su desempeño a partir del dataset obtenido luego de transformar los datos. ¿Hay una mejora en su desempeño? Compara con el desempeño obtenido en el proyecto 01. Sea cual sea la respuesta, intenta explicar a qué se debe."
   ]
  },
  {
   "cell_type": "markdown",
   "metadata": {},
   "source": [
    "#### Importamos librerías"
   ]
  },
  {
   "cell_type": "code",
   "execution_count": 1,
   "metadata": {},
   "outputs": [],
   "source": [
    "#IMPORTAMOS LIBRERÍAS\n",
    "import numpy as np\n",
    "import pandas as pd\n",
    "import matplotlib.pyplot as plt\n",
    "import seaborn as sns\n",
    "sns.set() "
   ]
  },
  {
   "cell_type": "markdown",
   "metadata": {},
   "source": [
    "#### Importamos dataset"
   ]
  },
  {
   "cell_type": "code",
   "execution_count": 2,
   "metadata": {},
   "outputs": [
    {
     "name": "stdout",
     "output_type": "stream",
     "text": [
      "Numpero de filas:  146660\n",
      "Numpero de columnas:  19\n"
     ]
    },
    {
     "data": {
      "text/html": [
       "<div>\n",
       "<style scoped>\n",
       "    .dataframe tbody tr th:only-of-type {\n",
       "        vertical-align: middle;\n",
       "    }\n",
       "\n",
       "    .dataframe tbody tr th {\n",
       "        vertical-align: top;\n",
       "    }\n",
       "\n",
       "    .dataframe thead th {\n",
       "        text-align: right;\n",
       "    }\n",
       "</style>\n",
       "<table border=\"1\" class=\"dataframe\">\n",
       "  <thead>\n",
       "    <tr style=\"text-align: right;\">\n",
       "      <th></th>\n",
       "      <th>start_date</th>\n",
       "      <th>end_date</th>\n",
       "      <th>created_on</th>\n",
       "      <th>lat</th>\n",
       "      <th>lon</th>\n",
       "      <th>l1</th>\n",
       "      <th>l2</th>\n",
       "      <th>l3</th>\n",
       "      <th>rooms</th>\n",
       "      <th>bedrooms</th>\n",
       "      <th>bathrooms</th>\n",
       "      <th>surface_total</th>\n",
       "      <th>surface_covered</th>\n",
       "      <th>price</th>\n",
       "      <th>currency</th>\n",
       "      <th>title</th>\n",
       "      <th>description</th>\n",
       "      <th>property_type</th>\n",
       "      <th>operation_type</th>\n",
       "    </tr>\n",
       "  </thead>\n",
       "  <tbody>\n",
       "    <tr>\n",
       "      <th>0</th>\n",
       "      <td>2019-10-17</td>\n",
       "      <td>2019-12-23</td>\n",
       "      <td>2019-10-17</td>\n",
       "      <td>-34.605880</td>\n",
       "      <td>-58.384949</td>\n",
       "      <td>Argentina</td>\n",
       "      <td>Capital Federal</td>\n",
       "      <td>San Cristobal</td>\n",
       "      <td>7.0</td>\n",
       "      <td>7.0</td>\n",
       "      <td>2.0</td>\n",
       "      <td>140.0</td>\n",
       "      <td>140.0</td>\n",
       "      <td>153000.0</td>\n",
       "      <td>USD</td>\n",
       "      <td>***Venta semipiso centro, ideal hostel*****</td>\n",
       "      <td>DESCRIPCION DE LA PROPIEDAD: Departamento de 1...</td>\n",
       "      <td>Departamento</td>\n",
       "      <td>Venta</td>\n",
       "    </tr>\n",
       "    <tr>\n",
       "      <th>1</th>\n",
       "      <td>2019-10-17</td>\n",
       "      <td>2019-11-21</td>\n",
       "      <td>2019-10-17</td>\n",
       "      <td>-34.624056</td>\n",
       "      <td>-58.412110</td>\n",
       "      <td>Argentina</td>\n",
       "      <td>Capital Federal</td>\n",
       "      <td>Boedo</td>\n",
       "      <td>2.0</td>\n",
       "      <td>1.0</td>\n",
       "      <td>2.0</td>\n",
       "      <td>70.0</td>\n",
       "      <td>58.0</td>\n",
       "      <td>159000.0</td>\n",
       "      <td>USD</td>\n",
       "      <td>Espectacular PH reciclado en Boedo sin expensas.</td>\n",
       "      <td>PH reciclado en Boedo a una cuadra de la plaz...</td>\n",
       "      <td>PH</td>\n",
       "      <td>Venta</td>\n",
       "    </tr>\n",
       "    <tr>\n",
       "      <th>2</th>\n",
       "      <td>2019-10-17</td>\n",
       "      <td>2019-11-01</td>\n",
       "      <td>2019-10-17</td>\n",
       "      <td>-34.593569</td>\n",
       "      <td>-58.427474</td>\n",
       "      <td>Argentina</td>\n",
       "      <td>Capital Federal</td>\n",
       "      <td>Palermo</td>\n",
       "      <td>2.0</td>\n",
       "      <td>1.0</td>\n",
       "      <td>1.0</td>\n",
       "      <td>45.0</td>\n",
       "      <td>45.0</td>\n",
       "      <td>125000.0</td>\n",
       "      <td>USD</td>\n",
       "      <td>Depto.tipo casa de 2 ambientes en Venta en Pal...</td>\n",
       "      <td>2 ambienets amplio , excelente estado , patio ...</td>\n",
       "      <td>PH</td>\n",
       "      <td>Venta</td>\n",
       "    </tr>\n",
       "    <tr>\n",
       "      <th>3</th>\n",
       "      <td>2019-10-17</td>\n",
       "      <td>2019-12-23</td>\n",
       "      <td>2019-10-17</td>\n",
       "      <td>-34.581294</td>\n",
       "      <td>-58.436754</td>\n",
       "      <td>Argentina</td>\n",
       "      <td>Capital Federal</td>\n",
       "      <td>Palermo</td>\n",
       "      <td>2.0</td>\n",
       "      <td>1.0</td>\n",
       "      <td>1.0</td>\n",
       "      <td>85.0</td>\n",
       "      <td>50.0</td>\n",
       "      <td>295000.0</td>\n",
       "      <td>USD</td>\n",
       "      <td>COSTA RICA 5800 / PALERMO HOLLYWOOD / VENTA PH...</td>\n",
       "      <td>HERMOSO PH EN PALERMO!!!2 AMBIENTES TOTALMENTE...</td>\n",
       "      <td>PH</td>\n",
       "      <td>Venta</td>\n",
       "    </tr>\n",
       "    <tr>\n",
       "      <th>4</th>\n",
       "      <td>2019-10-17</td>\n",
       "      <td>2020-03-11</td>\n",
       "      <td>2019-10-17</td>\n",
       "      <td>-34.914194</td>\n",
       "      <td>-57.938219</td>\n",
       "      <td>Argentina</td>\n",
       "      <td>Bs.As. G.B.A. Zona Sur</td>\n",
       "      <td>La Plata</td>\n",
       "      <td>2.0</td>\n",
       "      <td>1.0</td>\n",
       "      <td>1.0</td>\n",
       "      <td>50.0</td>\n",
       "      <td>35.0</td>\n",
       "      <td>40000.0</td>\n",
       "      <td>USD</td>\n",
       "      <td>58 entre 1 y 2  Venta de departamento en ph.1 ...</td>\n",
       "      <td>58 entre 1 y 2  Venta de departamento en PH. P...</td>\n",
       "      <td>PH</td>\n",
       "      <td>Venta</td>\n",
       "    </tr>\n",
       "  </tbody>\n",
       "</table>\n",
       "</div>"
      ],
      "text/plain": [
       "   start_date    end_date  created_on        lat        lon         l1  \\\n",
       "0  2019-10-17  2019-12-23  2019-10-17 -34.605880 -58.384949  Argentina   \n",
       "1  2019-10-17  2019-11-21  2019-10-17 -34.624056 -58.412110  Argentina   \n",
       "2  2019-10-17  2019-11-01  2019-10-17 -34.593569 -58.427474  Argentina   \n",
       "3  2019-10-17  2019-12-23  2019-10-17 -34.581294 -58.436754  Argentina   \n",
       "4  2019-10-17  2020-03-11  2019-10-17 -34.914194 -57.938219  Argentina   \n",
       "\n",
       "                       l2             l3  rooms  bedrooms  bathrooms  \\\n",
       "0         Capital Federal  San Cristobal    7.0       7.0        2.0   \n",
       "1         Capital Federal          Boedo    2.0       1.0        2.0   \n",
       "2         Capital Federal        Palermo    2.0       1.0        1.0   \n",
       "3         Capital Federal        Palermo    2.0       1.0        1.0   \n",
       "4  Bs.As. G.B.A. Zona Sur       La Plata    2.0       1.0        1.0   \n",
       "\n",
       "   surface_total  surface_covered     price currency  \\\n",
       "0          140.0            140.0  153000.0      USD   \n",
       "1           70.0             58.0  159000.0      USD   \n",
       "2           45.0             45.0  125000.0      USD   \n",
       "3           85.0             50.0  295000.0      USD   \n",
       "4           50.0             35.0   40000.0      USD   \n",
       "\n",
       "                                               title  \\\n",
       "0        ***Venta semipiso centro, ideal hostel*****   \n",
       "1   Espectacular PH reciclado en Boedo sin expensas.   \n",
       "2  Depto.tipo casa de 2 ambientes en Venta en Pal...   \n",
       "3  COSTA RICA 5800 / PALERMO HOLLYWOOD / VENTA PH...   \n",
       "4  58 entre 1 y 2  Venta de departamento en ph.1 ...   \n",
       "\n",
       "                                         description property_type  \\\n",
       "0  DESCRIPCION DE LA PROPIEDAD: Departamento de 1...  Departamento   \n",
       "1   PH reciclado en Boedo a una cuadra de la plaz...            PH   \n",
       "2  2 ambienets amplio , excelente estado , patio ...            PH   \n",
       "3  HERMOSO PH EN PALERMO!!!2 AMBIENTES TOTALMENTE...            PH   \n",
       "4  58 entre 1 y 2  Venta de departamento en PH. P...            PH   \n",
       "\n",
       "  operation_type  \n",
       "0          Venta  \n",
       "1          Venta  \n",
       "2          Venta  \n",
       "3          Venta  \n",
       "4          Venta  "
      ]
     },
     "execution_count": 2,
     "metadata": {},
     "output_type": "execute_result"
    }
   ],
   "source": [
    "#IMPORTAMOS DATASET\n",
    "df = pd.read_csv('../Bloque 1/DS_Proyecto_01_Datos_Properati.csv')\n",
    "print(\"Numpero de filas: \" , len(df.index))\n",
    "print(\"Numpero de columnas: \" , len(df.columns))\n",
    "df.head(5)"
   ]
  },
  {
   "cell_type": "markdown",
   "metadata": {},
   "source": [
    "#### Datos estadísticos"
   ]
  },
  {
   "cell_type": "code",
   "execution_count": 3,
   "metadata": {},
   "outputs": [
    {
     "data": {
      "text/html": [
       "<div>\n",
       "<style scoped>\n",
       "    .dataframe tbody tr th:only-of-type {\n",
       "        vertical-align: middle;\n",
       "    }\n",
       "\n",
       "    .dataframe tbody tr th {\n",
       "        vertical-align: top;\n",
       "    }\n",
       "\n",
       "    .dataframe thead th {\n",
       "        text-align: right;\n",
       "    }\n",
       "</style>\n",
       "<table border=\"1\" class=\"dataframe\">\n",
       "  <thead>\n",
       "    <tr style=\"text-align: right;\">\n",
       "      <th></th>\n",
       "      <th>lat</th>\n",
       "      <th>lon</th>\n",
       "      <th>rooms</th>\n",
       "      <th>bedrooms</th>\n",
       "      <th>bathrooms</th>\n",
       "      <th>surface_total</th>\n",
       "      <th>surface_covered</th>\n",
       "      <th>price</th>\n",
       "    </tr>\n",
       "  </thead>\n",
       "  <tbody>\n",
       "    <tr>\n",
       "      <th>count</th>\n",
       "      <td>136735.000000</td>\n",
       "      <td>136701.000000</td>\n",
       "      <td>146660.000000</td>\n",
       "      <td>146660.000000</td>\n",
       "      <td>140703.000000</td>\n",
       "      <td>126133.000000</td>\n",
       "      <td>125046.000000</td>\n",
       "      <td>1.466600e+05</td>\n",
       "    </tr>\n",
       "    <tr>\n",
       "      <th>mean</th>\n",
       "      <td>-34.604896</td>\n",
       "      <td>-58.465304</td>\n",
       "      <td>3.079817</td>\n",
       "      <td>1.983240</td>\n",
       "      <td>1.599994</td>\n",
       "      <td>216.872888</td>\n",
       "      <td>112.818011</td>\n",
       "      <td>2.412211e+05</td>\n",
       "    </tr>\n",
       "    <tr>\n",
       "      <th>std</th>\n",
       "      <td>0.468428</td>\n",
       "      <td>0.486190</td>\n",
       "      <td>1.416352</td>\n",
       "      <td>1.151304</td>\n",
       "      <td>0.889324</td>\n",
       "      <td>2037.606649</td>\n",
       "      <td>916.857584</td>\n",
       "      <td>3.185195e+05</td>\n",
       "    </tr>\n",
       "    <tr>\n",
       "      <th>min</th>\n",
       "      <td>-35.318457</td>\n",
       "      <td>-180.000000</td>\n",
       "      <td>1.000000</td>\n",
       "      <td>0.000000</td>\n",
       "      <td>1.000000</td>\n",
       "      <td>10.000000</td>\n",
       "      <td>1.000000</td>\n",
       "      <td>5.500000e+03</td>\n",
       "    </tr>\n",
       "    <tr>\n",
       "      <th>25%</th>\n",
       "      <td>-34.627667</td>\n",
       "      <td>-58.504012</td>\n",
       "      <td>2.000000</td>\n",
       "      <td>1.000000</td>\n",
       "      <td>1.000000</td>\n",
       "      <td>52.000000</td>\n",
       "      <td>47.000000</td>\n",
       "      <td>1.110000e+05</td>\n",
       "    </tr>\n",
       "    <tr>\n",
       "      <th>50%</th>\n",
       "      <td>-34.600943</td>\n",
       "      <td>-58.443262</td>\n",
       "      <td>3.000000</td>\n",
       "      <td>2.000000</td>\n",
       "      <td>1.000000</td>\n",
       "      <td>78.000000</td>\n",
       "      <td>68.000000</td>\n",
       "      <td>1.660000e+05</td>\n",
       "    </tr>\n",
       "    <tr>\n",
       "      <th>75%</th>\n",
       "      <td>-34.574600</td>\n",
       "      <td>-58.407586</td>\n",
       "      <td>4.000000</td>\n",
       "      <td>3.000000</td>\n",
       "      <td>2.000000</td>\n",
       "      <td>140.000000</td>\n",
       "      <td>108.000000</td>\n",
       "      <td>2.650000e+05</td>\n",
       "    </tr>\n",
       "    <tr>\n",
       "      <th>max</th>\n",
       "      <td>85.051129</td>\n",
       "      <td>-57.805832</td>\n",
       "      <td>35.000000</td>\n",
       "      <td>15.000000</td>\n",
       "      <td>14.000000</td>\n",
       "      <td>193549.000000</td>\n",
       "      <td>126062.000000</td>\n",
       "      <td>3.243423e+07</td>\n",
       "    </tr>\n",
       "  </tbody>\n",
       "</table>\n",
       "</div>"
      ],
      "text/plain": [
       "                 lat            lon          rooms       bedrooms  \\\n",
       "count  136735.000000  136701.000000  146660.000000  146660.000000   \n",
       "mean      -34.604896     -58.465304       3.079817       1.983240   \n",
       "std         0.468428       0.486190       1.416352       1.151304   \n",
       "min       -35.318457    -180.000000       1.000000       0.000000   \n",
       "25%       -34.627667     -58.504012       2.000000       1.000000   \n",
       "50%       -34.600943     -58.443262       3.000000       2.000000   \n",
       "75%       -34.574600     -58.407586       4.000000       3.000000   \n",
       "max        85.051129     -57.805832      35.000000      15.000000   \n",
       "\n",
       "           bathrooms  surface_total  surface_covered         price  \n",
       "count  140703.000000  126133.000000    125046.000000  1.466600e+05  \n",
       "mean        1.599994     216.872888       112.818011  2.412211e+05  \n",
       "std         0.889324    2037.606649       916.857584  3.185195e+05  \n",
       "min         1.000000      10.000000         1.000000  5.500000e+03  \n",
       "25%         1.000000      52.000000        47.000000  1.110000e+05  \n",
       "50%         1.000000      78.000000        68.000000  1.660000e+05  \n",
       "75%         2.000000     140.000000       108.000000  2.650000e+05  \n",
       "max        14.000000  193549.000000    126062.000000  3.243423e+07  "
      ]
     },
     "execution_count": 3,
     "metadata": {},
     "output_type": "execute_result"
    }
   ],
   "source": [
    "# Visualizamos datos estadísticos\n",
    "df.describe()"
   ]
  },
  {
   "cell_type": "markdown",
   "metadata": {},
   "source": [
    "<div style=\"background-color: bisque; padding: 10px 10px 10px 10px; font-weight:400\">\n",
    "    <h4>Observaciones preliminares</h4>\n",
    "    Altísima varianza y diferencia entre valores máximos y promedios en valores: \n",
    "    <li>surface-total y surfcae_covered</li>\n",
    "    <li>si bien a niveles menores, podría argüirse también de que la columna price guarda también muchos valores atípicos</li>\n",
    "    <hr>\n",
    "    <p>Estos son datos que claramente pueden ser abordados luego en un proceso de detección de outliers</p> \n",
    "</div>"
   ]
  },
  {
   "cell_type": "markdown",
   "metadata": {},
   "source": [
    "<div style=\"background-color: LightGray; padding: 10px 10px 10px 10px; font-weight:400\">\n",
    "    <h4>Eliminamos columnas que no necesitamos</h4>\n",
    "<p>No guardan correlación con lo que nos interesa predecir que es el precio de las unidades</p>\n",
    "</div>"
   ]
  },
  {
   "cell_type": "code",
   "execution_count": 4,
   "metadata": {},
   "outputs": [
    {
     "data": {
      "text/html": [
       "<div>\n",
       "<style scoped>\n",
       "    .dataframe tbody tr th:only-of-type {\n",
       "        vertical-align: middle;\n",
       "    }\n",
       "\n",
       "    .dataframe tbody tr th {\n",
       "        vertical-align: top;\n",
       "    }\n",
       "\n",
       "    .dataframe thead th {\n",
       "        text-align: right;\n",
       "    }\n",
       "</style>\n",
       "<table border=\"1\" class=\"dataframe\">\n",
       "  <thead>\n",
       "    <tr style=\"text-align: right;\">\n",
       "      <th></th>\n",
       "      <th>l2</th>\n",
       "      <th>l3</th>\n",
       "      <th>rooms</th>\n",
       "      <th>bedrooms</th>\n",
       "      <th>bathrooms</th>\n",
       "      <th>surface_total</th>\n",
       "      <th>surface_covered</th>\n",
       "      <th>price</th>\n",
       "      <th>property_type</th>\n",
       "    </tr>\n",
       "  </thead>\n",
       "  <tbody>\n",
       "    <tr>\n",
       "      <th>0</th>\n",
       "      <td>Capital Federal</td>\n",
       "      <td>San Cristobal</td>\n",
       "      <td>7.0</td>\n",
       "      <td>7.0</td>\n",
       "      <td>2.0</td>\n",
       "      <td>140.0</td>\n",
       "      <td>140.0</td>\n",
       "      <td>153000.0</td>\n",
       "      <td>Departamento</td>\n",
       "    </tr>\n",
       "    <tr>\n",
       "      <th>1</th>\n",
       "      <td>Capital Federal</td>\n",
       "      <td>Boedo</td>\n",
       "      <td>2.0</td>\n",
       "      <td>1.0</td>\n",
       "      <td>2.0</td>\n",
       "      <td>70.0</td>\n",
       "      <td>58.0</td>\n",
       "      <td>159000.0</td>\n",
       "      <td>PH</td>\n",
       "    </tr>\n",
       "    <tr>\n",
       "      <th>2</th>\n",
       "      <td>Capital Federal</td>\n",
       "      <td>Palermo</td>\n",
       "      <td>2.0</td>\n",
       "      <td>1.0</td>\n",
       "      <td>1.0</td>\n",
       "      <td>45.0</td>\n",
       "      <td>45.0</td>\n",
       "      <td>125000.0</td>\n",
       "      <td>PH</td>\n",
       "    </tr>\n",
       "    <tr>\n",
       "      <th>3</th>\n",
       "      <td>Capital Federal</td>\n",
       "      <td>Palermo</td>\n",
       "      <td>2.0</td>\n",
       "      <td>1.0</td>\n",
       "      <td>1.0</td>\n",
       "      <td>85.0</td>\n",
       "      <td>50.0</td>\n",
       "      <td>295000.0</td>\n",
       "      <td>PH</td>\n",
       "    </tr>\n",
       "    <tr>\n",
       "      <th>4</th>\n",
       "      <td>Bs.As. G.B.A. Zona Sur</td>\n",
       "      <td>La Plata</td>\n",
       "      <td>2.0</td>\n",
       "      <td>1.0</td>\n",
       "      <td>1.0</td>\n",
       "      <td>50.0</td>\n",
       "      <td>35.0</td>\n",
       "      <td>40000.0</td>\n",
       "      <td>PH</td>\n",
       "    </tr>\n",
       "  </tbody>\n",
       "</table>\n",
       "</div>"
      ],
      "text/plain": [
       "                       l2             l3  rooms  bedrooms  bathrooms  \\\n",
       "0         Capital Federal  San Cristobal    7.0       7.0        2.0   \n",
       "1         Capital Federal          Boedo    2.0       1.0        2.0   \n",
       "2         Capital Federal        Palermo    2.0       1.0        1.0   \n",
       "3         Capital Federal        Palermo    2.0       1.0        1.0   \n",
       "4  Bs.As. G.B.A. Zona Sur       La Plata    2.0       1.0        1.0   \n",
       "\n",
       "   surface_total  surface_covered     price property_type  \n",
       "0          140.0            140.0  153000.0  Departamento  \n",
       "1           70.0             58.0  159000.0            PH  \n",
       "2           45.0             45.0  125000.0            PH  \n",
       "3           85.0             50.0  295000.0            PH  \n",
       "4           50.0             35.0   40000.0            PH  "
      ]
     },
     "execution_count": 4,
     "metadata": {},
     "output_type": "execute_result"
    }
   ],
   "source": [
    "# Dropping columns\n",
    "df_0 = df.drop(['lat', 'lon', 'start_date', 'end_date', 'created_on', 'l1', 'currency', 'title', 'description', 'operation_type'], axis = 1,  inplace=False)\n",
    "df_0.head()"
   ]
  },
  {
   "cell_type": "markdown",
   "metadata": {},
   "source": [
    "<div style=\"background-color:LightGray; padding: 10px 10px 10px 10px; font-weight:400\">\n",
    "    <h4>Eliminamos tipos de instancias que no necesitamos</h4>\n",
    "    <p>Como veremos en el próximo output, tenemos alrededor de una decena de tipos de unidades. No nos quedaremos con todas ellas. Explicamos las razones en lo siguiente</p>\n",
    "</div>"
   ]
  },
  {
   "cell_type": "code",
   "execution_count": 133,
   "metadata": {},
   "outputs": [
    {
     "data": {
      "text/html": [
       "<div>\n",
       "<style scoped>\n",
       "    .dataframe tbody tr th:only-of-type {\n",
       "        vertical-align: middle;\n",
       "    }\n",
       "\n",
       "    .dataframe tbody tr th {\n",
       "        vertical-align: top;\n",
       "    }\n",
       "\n",
       "    .dataframe thead th {\n",
       "        text-align: right;\n",
       "    }\n",
       "</style>\n",
       "<table border=\"1\" class=\"dataframe\">\n",
       "  <thead>\n",
       "    <tr style=\"text-align: right;\">\n",
       "      <th></th>\n",
       "      <th>property_type</th>\n",
       "    </tr>\n",
       "  </thead>\n",
       "  <tbody>\n",
       "    <tr>\n",
       "      <th>Departamento</th>\n",
       "      <td>69628</td>\n",
       "    </tr>\n",
       "    <tr>\n",
       "      <th>PH</th>\n",
       "      <td>9627</td>\n",
       "    </tr>\n",
       "    <tr>\n",
       "      <th>Casa</th>\n",
       "      <td>2036</td>\n",
       "    </tr>\n",
       "  </tbody>\n",
       "</table>\n",
       "</div>"
      ],
      "text/plain": [
       "              property_type\n",
       "Departamento          69628\n",
       "PH                     9627\n",
       "Casa                   2036"
      ]
     },
     "execution_count": 133,
     "metadata": {},
     "output_type": "execute_result"
    }
   ],
   "source": [
    "df_0[\"property_type\"].value_counts(dropna=False, normalize=False).to_frame() "
   ]
  },
  {
   "cell_type": "markdown",
   "metadata": {},
   "source": [
    "<div id=\"criteria\" style=\"background-color: bisque; padding: 10px 10px 10px 10px; font-weight:400\">\n",
    "    <h4>Criterios de congruencia y cohesión </h4>\n",
    "    <li>Nos quedamos con los 3 tipos de propiedades más significativas en términos de número, como de tipo de propiedad (es más correlcionable pensar en términos de PH, Casas y deptos; que en locales, galpones y fincas) <br></li>\n",
    "    <li>De la misma manera, hay un desbalance en la muestra de registros, siendo las instancias de Capital Federal la muestra más sobre-representada. Ajustarnos a dichos registros para la construcción de nuestros modelos, parece lo más ajustado.</li>\n",
    "    <li> Y nos quedamos con los datos relativos a la geografía de Capital Federal así fortalcemos la congruencia de los datos</li></div>"
   ]
  },
  {
   "cell_type": "code",
   "execution_count": 6,
   "metadata": {},
   "outputs": [
    {
     "data": {
      "text/plain": [
       "'tamaño 0'"
      ]
     },
     "metadata": {},
     "output_type": "display_data"
    },
    {
     "data": {
      "text/plain": [
       "(146660, 9)"
      ]
     },
     "metadata": {},
     "output_type": "display_data"
    }
   ],
   "source": [
    "display('tamaño 0', df_0.shape)\n",
    "df_0 = df_0[(df_0.property_type == 'Departamento') | (df_0.property_type == 'PH') | (df_0.property_type == 'Casa')]\n",
    "df_0 = df_0[df_0.l2 == 'Capital Federal']"
   ]
  },
  {
   "cell_type": "code",
   "execution_count": 7,
   "metadata": {},
   "outputs": [
    {
     "data": {
      "text/plain": [
       "'tamaño 01'"
      ]
     },
     "metadata": {},
     "output_type": "display_data"
    },
    {
     "data": {
      "text/plain": [
       "(91485, 9)"
      ]
     },
     "metadata": {},
     "output_type": "display_data"
    }
   ],
   "source": [
    "display('tamaño 01', df_0.shape)"
   ]
  },
  {
   "cell_type": "markdown",
   "metadata": {},
   "source": [
    "<div style=\"background-color: bisque; padding: 10px 10px 10px 10px; font-weight:400\"><strong>Eliminamos datos incongruentes:</strong>\n",
    "    <li>Superficie cubierta > superficie total</li>\n",
    "<p>No puede haber unidades cuya superficie cubierta sea mayor a la total.</p>\n",
    "</div>\n"
   ]
  },
  {
   "cell_type": "code",
   "execution_count": 8,
   "metadata": {},
   "outputs": [
    {
     "data": {
      "text/plain": [
       "(81291, 9)"
      ]
     },
     "execution_count": 8,
     "metadata": {},
     "output_type": "execute_result"
    }
   ],
   "source": [
    "df_0 = df_0[(df_0.surface_total >= df_0.surface_covered)]\n",
    "df_0.shape"
   ]
  },
  {
   "cell_type": "markdown",
   "metadata": {},
   "source": [
    "# PREPROCESAMIENTO DE DATOS"
   ]
  },
  {
   "cell_type": "markdown",
   "metadata": {},
   "source": [
    "## Eliminación de outliers\n",
    "<hr style=\"color:rgb(240, 240, 240)\"></hr>\n",
    "<div id=\"outliers\" style=\"background-color: LightGray; padding: 10px 20px 10px 10px\">\n",
    "    <h3>¿Por qué?</h3>\n",
    "    <p>De entre las estrategias de preprocesamiento mencionadas más arriba y trbajadas durante el desarrollo del curso, la que se refiere a la eliminación de outliers parece ser la más fundamental de todas, pues afectaría a cualquiera de los otros procesos en sus resultdos de implementación, como también afectaría a la construcción de los modelos.</p>\n",
    "    <p>Si el objeto final de este proyecto pasa por la construcción de un sistema de predicción de precios, sistema que será construido sobre las bases de un modelo, entonces es de fundamenal importancia proceder de forma tal que nos aseguremos la eliminación de desvaríos estadísticos en los datos ya desde un comienzo.</p>\n",
    "    <p>Por último, hay que tener en cuenta que este dataset ha sido trbajado ya durante el Proyecto 01, por lo que conocemos de la existencia de ciertas instancias de outliers que deberían ser eliminadas en features importantes.\n",
    "</div>"
   ]
  },
  {
   "cell_type": "markdown",
   "metadata": {},
   "source": [
    "<div style=\"background-color: bisque; padding: 10px 10px 10px 10px\">\n",
    "    <h4>Valor STD en:</h4>\n",
    "    <li>surface_total => 900</li>\n",
    "    <li>surface_covered => 64</li>\n",
    "    <li>price => 3</li>\n",
    "    <hr>\n",
    "    Procedemos a detectar y eliminar valores atípicos sobre todo en aquellos <i>feautures</i> que presenten un std mayor a 1.5.\n",
    "    <br>\n",
    "    Implementamos la estretegia de las 3 sigmas en las columnas mencionadas.\n",
    "</div>"
   ]
  },
  {
   "cell_type": "code",
   "execution_count": 9,
   "metadata": {},
   "outputs": [
    {
     "data": {
      "text/html": [
       "<div>\n",
       "<style scoped>\n",
       "    .dataframe tbody tr th:only-of-type {\n",
       "        vertical-align: middle;\n",
       "    }\n",
       "\n",
       "    .dataframe tbody tr th {\n",
       "        vertical-align: top;\n",
       "    }\n",
       "\n",
       "    .dataframe thead th {\n",
       "        text-align: right;\n",
       "    }\n",
       "</style>\n",
       "<table border=\"1\" class=\"dataframe\">\n",
       "  <thead>\n",
       "    <tr style=\"text-align: right;\">\n",
       "      <th></th>\n",
       "      <th>rooms</th>\n",
       "      <th>bedrooms</th>\n",
       "      <th>bathrooms</th>\n",
       "      <th>surface_total</th>\n",
       "      <th>surface_covered</th>\n",
       "      <th>price</th>\n",
       "    </tr>\n",
       "  </thead>\n",
       "  <tbody>\n",
       "    <tr>\n",
       "      <th>count</th>\n",
       "      <td>81291.000000</td>\n",
       "      <td>81291.000000</td>\n",
       "      <td>80458.000000</td>\n",
       "      <td>81291.000000</td>\n",
       "      <td>81291.000000</td>\n",
       "      <td>8.129100e+04</td>\n",
       "    </tr>\n",
       "    <tr>\n",
       "      <th>mean</th>\n",
       "      <td>3.004957</td>\n",
       "      <td>1.998745</td>\n",
       "      <td>1.554600</td>\n",
       "      <td>112.920348</td>\n",
       "      <td>92.261271</td>\n",
       "      <td>2.657606e+05</td>\n",
       "    </tr>\n",
       "    <tr>\n",
       "      <th>std</th>\n",
       "      <td>1.299796</td>\n",
       "      <td>1.045831</td>\n",
       "      <td>0.853083</td>\n",
       "      <td>988.263003</td>\n",
       "      <td>769.777375</td>\n",
       "      <td>3.337463e+05</td>\n",
       "    </tr>\n",
       "    <tr>\n",
       "      <th>min</th>\n",
       "      <td>1.000000</td>\n",
       "      <td>0.000000</td>\n",
       "      <td>1.000000</td>\n",
       "      <td>12.000000</td>\n",
       "      <td>1.000000</td>\n",
       "      <td>6.000000e+03</td>\n",
       "    </tr>\n",
       "    <tr>\n",
       "      <th>25%</th>\n",
       "      <td>2.000000</td>\n",
       "      <td>1.000000</td>\n",
       "      <td>1.000000</td>\n",
       "      <td>49.500000</td>\n",
       "      <td>44.000000</td>\n",
       "      <td>1.250000e+05</td>\n",
       "    </tr>\n",
       "    <tr>\n",
       "      <th>50%</th>\n",
       "      <td>3.000000</td>\n",
       "      <td>2.000000</td>\n",
       "      <td>1.000000</td>\n",
       "      <td>71.000000</td>\n",
       "      <td>63.000000</td>\n",
       "      <td>1.800000e+05</td>\n",
       "    </tr>\n",
       "    <tr>\n",
       "      <th>75%</th>\n",
       "      <td>4.000000</td>\n",
       "      <td>3.000000</td>\n",
       "      <td>2.000000</td>\n",
       "      <td>111.000000</td>\n",
       "      <td>96.000000</td>\n",
       "      <td>2.800000e+05</td>\n",
       "    </tr>\n",
       "    <tr>\n",
       "      <th>max</th>\n",
       "      <td>26.000000</td>\n",
       "      <td>15.000000</td>\n",
       "      <td>14.000000</td>\n",
       "      <td>126062.000000</td>\n",
       "      <td>126062.000000</td>\n",
       "      <td>3.243423e+07</td>\n",
       "    </tr>\n",
       "  </tbody>\n",
       "</table>\n",
       "</div>"
      ],
      "text/plain": [
       "              rooms      bedrooms     bathrooms  surface_total  \\\n",
       "count  81291.000000  81291.000000  80458.000000   81291.000000   \n",
       "mean       3.004957      1.998745      1.554600     112.920348   \n",
       "std        1.299796      1.045831      0.853083     988.263003   \n",
       "min        1.000000      0.000000      1.000000      12.000000   \n",
       "25%        2.000000      1.000000      1.000000      49.500000   \n",
       "50%        3.000000      2.000000      1.000000      71.000000   \n",
       "75%        4.000000      3.000000      2.000000     111.000000   \n",
       "max       26.000000     15.000000     14.000000  126062.000000   \n",
       "\n",
       "       surface_covered         price  \n",
       "count     81291.000000  8.129100e+04  \n",
       "mean         92.261271  2.657606e+05  \n",
       "std         769.777375  3.337463e+05  \n",
       "min           1.000000  6.000000e+03  \n",
       "25%          44.000000  1.250000e+05  \n",
       "50%          63.000000  1.800000e+05  \n",
       "75%          96.000000  2.800000e+05  \n",
       "max      126062.000000  3.243423e+07  "
      ]
     },
     "execution_count": 9,
     "metadata": {},
     "output_type": "execute_result"
    }
   ],
   "source": [
    "df_0.describe()"
   ]
  },
  {
   "cell_type": "code",
   "execution_count": 10,
   "metadata": {},
   "outputs": [],
   "source": [
    "df_01 = df_0"
   ]
  },
  {
   "cell_type": "code",
   "execution_count": 11,
   "metadata": {},
   "outputs": [],
   "source": [
    "def outliers(column):\n",
    "    df_1 = df_0\n",
    "    print('//-----------------------Distribución en ', column, 'antes de remoción------------------------------------//')\n",
    "    display(df_1[column].describe())\n",
    "    plt.figure(figsize = (10,7))\n",
    "    plt.subplot(2,1,1)\n",
    "    sns.distplot(df_1[column])\n",
    "    plt.subplot(2,1,2)\n",
    "    sns.boxplot(df_1[column])\n",
    "    plt.show()\n",
    "    print('//-----------------------Estadística de outliers en ', column, ' antes de remoción --------------------------//')\n",
    "    media = df_1[column].mean()\n",
    "    std = df_1[column].std()\n",
    "    minimo = media - 3 *std\n",
    "    maximo = media + 3 *std\n",
    "    outliers = np.logical_or(df_1[column] < minimo, df_1[column] > maximo)\n",
    "    print('Suma de outliers en ' , column, ' =>', outliers.sum())\n",
    "    print('Shape before => ', df_0.shape)\n",
    "    df_1 = df_1[outliers == False]\n",
    "    print('Shape after => ', df_1.shape)\n",
    "    print('//-----------------------Impresión de gráficos después de remoción------------------------------------//')\n",
    "    plt.figure(figsize = (10,7))\n",
    "    plt.subplot(2,1,1)\n",
    "    sns.distplot(df_1[column])\n",
    "    plt.subplot(2,1,2)\n",
    "    sns.boxplot(df_1[column])\n",
    "    plt.show()\n",
    "    print('//-----------------------Estadística de outliers en ', column, ' después de remoción --------------------------//')\n",
    "    display(df_1[column].describe())\n",
    "    df_01[column] = df_1[column]"
   ]
  },
  {
   "cell_type": "markdown",
   "metadata": {},
   "source": [
    "#### surface_total\n",
    "<hr>\n",
    "<p style=\"font-weight:500\">STD: > 900 </p>"
   ]
  },
  {
   "cell_type": "code",
   "execution_count": 12,
   "metadata": {},
   "outputs": [
    {
     "name": "stdout",
     "output_type": "stream",
     "text": [
      "//-----------------------Distribución en  surface_total antes de remoción------------------------------------//\n"
     ]
    },
    {
     "data": {
      "text/plain": [
       "count     81291.000000\n",
       "mean        112.920348\n",
       "std         988.263003\n",
       "min          12.000000\n",
       "25%          49.500000\n",
       "50%          71.000000\n",
       "75%         111.000000\n",
       "max      126062.000000\n",
       "Name: surface_total, dtype: float64"
      ]
     },
     "metadata": {},
     "output_type": "display_data"
    },
    {
     "data": {
      "image/png": "[encoded data removed]",
      "text/plain": [
       "<Figure size 720x504 with 2 Axes>"
      ]
     },
     "metadata": {},
     "output_type": "display_data"
    },
    {
     "name": "stdout",
     "output_type": "stream",
     "text": [
      "//-----------------------Estadística de outliers en  surface_total  antes de remoción --------------------------//\n",
      "Suma de outliers en  surface_total  => 115\n",
      "Shape before =>  (81291, 9)\n",
      "Shape after =>  (81176, 9)\n",
      "//-----------------------Impresión de gráficos después de remoción------------------------------------//\n"
     ]
    },
    {
     "data": {
      "image/png": "[encoded data removed]",
      "text/plain": [
       "<Figure size 720x504 with 2 Axes>"
      ]
     },
     "metadata": {},
     "output_type": "display_data"
    },
    {
     "name": "stdout",
     "output_type": "stream",
     "text": [
      "//-----------------------Estadística de outliers en  surface_total  después de remoción --------------------------//\n"
     ]
    },
    {
     "data": {
      "text/plain": [
       "count    81176.000000\n",
       "mean        96.013194\n",
       "std         84.746537\n",
       "min         12.000000\n",
       "25%         49.000000\n",
       "50%         71.000000\n",
       "75%        111.000000\n",
       "max       3070.000000\n",
       "Name: surface_total, dtype: float64"
      ]
     },
     "metadata": {},
     "output_type": "display_data"
    }
   ],
   "source": [
    "outliers('surface_total')"
   ]
  },
  {
   "cell_type": "markdown",
   "metadata": {},
   "source": [
    "#### surface_covered\n",
    "<hr>\n",
    "<p style=\"font-weight:500\">std: > 700</p>"
   ]
  },
  {
   "cell_type": "code",
   "execution_count": 13,
   "metadata": {},
   "outputs": [
    {
     "name": "stdout",
     "output_type": "stream",
     "text": [
      "//-----------------------Distribución en  surface_covered antes de remoción------------------------------------//\n"
     ]
    },
    {
     "data": {
      "text/plain": [
       "count     81291.000000\n",
       "mean         92.261271\n",
       "std         769.777375\n",
       "min           1.000000\n",
       "25%          44.000000\n",
       "50%          63.000000\n",
       "75%          96.000000\n",
       "max      126062.000000\n",
       "Name: surface_covered, dtype: float64"
      ]
     },
     "metadata": {},
     "output_type": "display_data"
    },
    {
     "data": {
      "image/png": "[encoded data removed]",
      "text/plain": [
       "<Figure size 720x504 with 2 Axes>"
      ]
     },
     "metadata": {},
     "output_type": "display_data"
    },
    {
     "name": "stdout",
     "output_type": "stream",
     "text": [
      "//-----------------------Estadística de outliers en  surface_covered  antes de remoción --------------------------//\n",
      "Suma de outliers en  surface_covered  => 76\n",
      "Shape before =>  (81291, 9)\n",
      "Shape after =>  (81215, 9)\n",
      "//-----------------------Impresión de gráficos después de remoción------------------------------------//\n"
     ]
    },
    {
     "data": {
      "image/png": "[encoded data removed]",
      "text/plain": [
       "<Figure size 720x504 with 2 Axes>"
      ]
     },
     "metadata": {},
     "output_type": "display_data"
    },
    {
     "name": "stdout",
     "output_type": "stream",
     "text": [
      "//-----------------------Estadística de outliers en  surface_covered  después de remoción --------------------------//\n"
     ]
    },
    {
     "data": {
      "text/plain": [
       "count    81215.000000\n",
       "mean        82.264225\n",
       "std         63.007970\n",
       "min          1.000000\n",
       "25%         44.000000\n",
       "50%         63.000000\n",
       "75%         96.000000\n",
       "max       1400.000000\n",
       "Name: surface_covered, dtype: float64"
      ]
     },
     "metadata": {},
     "output_type": "display_data"
    }
   ],
   "source": [
    "outliers('surface_covered')"
   ]
  },
  {
   "cell_type": "markdown",
   "metadata": {},
   "source": [
    "#### Price\n",
    "<hr>\n",
    "<p style=\"font-weight:500\">STD: > 3</p>"
   ]
  },
  {
   "cell_type": "code",
   "execution_count": 14,
   "metadata": {},
   "outputs": [
    {
     "name": "stdout",
     "output_type": "stream",
     "text": [
      "//-----------------------Distribución en  price antes de remoción------------------------------------//\n"
     ]
    },
    {
     "data": {
      "text/plain": [
       "count    8.129100e+04\n",
       "mean     2.657606e+05\n",
       "std      3.337463e+05\n",
       "min      6.000000e+03\n",
       "25%      1.250000e+05\n",
       "50%      1.800000e+05\n",
       "75%      2.800000e+05\n",
       "max      3.243423e+07\n",
       "Name: price, dtype: float64"
      ]
     },
     "metadata": {},
     "output_type": "display_data"
    },
    {
     "data": {
      "image/png": "[encoded data removed]",
      "text/plain": [
       "<Figure size 720x504 with 2 Axes>"
      ]
     },
     "metadata": {},
     "output_type": "display_data"
    },
    {
     "name": "stdout",
     "output_type": "stream",
     "text": [
      "//-----------------------Estadística de outliers en  price  antes de remoción --------------------------//\n",
      "Suma de outliers en  price  => 1483\n",
      "Shape before =>  (81291, 9)\n",
      "Shape after =>  (79808, 9)\n",
      "//-----------------------Impresión de gráficos después de remoción------------------------------------//\n"
     ]
    },
    {
     "data": {
      "image/png": "[encoded data removed]",
      "text/plain": [
       "<Figure size 720x504 with 2 Axes>"
      ]
     },
     "metadata": {},
     "output_type": "display_data"
    },
    {
     "name": "stdout",
     "output_type": "stream",
     "text": [
      "//-----------------------Estadística de outliers en  price  después de remoción --------------------------//\n"
     ]
    },
    {
     "data": {
      "text/plain": [
       "count    7.980800e+04\n",
       "mean     2.332734e+05\n",
       "std      1.786064e+05\n",
       "min      6.000000e+03\n",
       "25%      1.249000e+05\n",
       "50%      1.770000e+05\n",
       "75%      2.730000e+05\n",
       "max      1.260000e+06\n",
       "Name: price, dtype: float64"
      ]
     },
     "metadata": {},
     "output_type": "display_data"
    }
   ],
   "source": [
    "outliers('price')"
   ]
  },
  {
   "cell_type": "markdown",
   "metadata": {},
   "source": [
    "#### Rooms\n",
    "<hr>"
   ]
  },
  {
   "cell_type": "code",
   "execution_count": 15,
   "metadata": {},
   "outputs": [
    {
     "name": "stdout",
     "output_type": "stream",
     "text": [
      "//-----------------------Distribución en  rooms antes de remoción------------------------------------//\n"
     ]
    },
    {
     "data": {
      "text/plain": [
       "count    81291.000000\n",
       "mean         3.004957\n",
       "std          1.299796\n",
       "min          1.000000\n",
       "25%          2.000000\n",
       "50%          3.000000\n",
       "75%          4.000000\n",
       "max         26.000000\n",
       "Name: rooms, dtype: float64"
      ]
     },
     "metadata": {},
     "output_type": "display_data"
    },
    {
     "data": {
      "image/png": "[encoded data removed]",
      "text/plain": [
       "<Figure size 720x504 with 2 Axes>"
      ]
     },
     "metadata": {},
     "output_type": "display_data"
    },
    {
     "name": "stdout",
     "output_type": "stream",
     "text": [
      "//-----------------------Estadística de outliers en  rooms  antes de remoción --------------------------//\n",
      "Suma de outliers en  rooms  => 1273\n",
      "Shape before =>  (81291, 9)\n",
      "Shape after =>  (80018, 9)\n",
      "//-----------------------Impresión de gráficos después de remoción------------------------------------//\n"
     ]
    },
    {
     "data": {
      "image/png": "[encoded data removed]",
      "text/plain": [
       "<Figure size 720x504 with 2 Axes>"
      ]
     },
     "metadata": {},
     "output_type": "display_data"
    },
    {
     "name": "stdout",
     "output_type": "stream",
     "text": [
      "//-----------------------Estadística de outliers en  rooms  después de remoción --------------------------//\n"
     ]
    },
    {
     "data": {
      "text/plain": [
       "count    80018.000000\n",
       "mean         2.925879\n",
       "std          1.128083\n",
       "min          1.000000\n",
       "25%          2.000000\n",
       "50%          3.000000\n",
       "75%          4.000000\n",
       "max          6.000000\n",
       "Name: rooms, dtype: float64"
      ]
     },
     "metadata": {},
     "output_type": "display_data"
    }
   ],
   "source": [
    "outliers('rooms')"
   ]
  },
  {
   "cell_type": "markdown",
   "metadata": {},
   "source": [
    "#### Bathrooms\n",
    "<hr>"
   ]
  },
  {
   "cell_type": "code",
   "execution_count": 16,
   "metadata": {},
   "outputs": [
    {
     "name": "stdout",
     "output_type": "stream",
     "text": [
      "//-----------------------Distribución en  bathrooms antes de remoción------------------------------------//\n"
     ]
    },
    {
     "data": {
      "text/plain": [
       "count    80458.000000\n",
       "mean         1.554600\n",
       "std          0.853083\n",
       "min          1.000000\n",
       "25%          1.000000\n",
       "50%          1.000000\n",
       "75%          2.000000\n",
       "max         14.000000\n",
       "Name: bathrooms, dtype: float64"
      ]
     },
     "metadata": {},
     "output_type": "display_data"
    },
    {
     "data": {
      "image/png": "[encoded data removed]",
      "text/plain": [
       "<Figure size 720x504 with 2 Axes>"
      ]
     },
     "metadata": {},
     "output_type": "display_data"
    },
    {
     "name": "stdout",
     "output_type": "stream",
     "text": [
      "//-----------------------Estadística de outliers en  bathrooms  antes de remoción --------------------------//\n",
      "Suma de outliers en  bathrooms  => 809\n",
      "Shape before =>  (81291, 9)\n",
      "Shape after =>  (80482, 9)\n",
      "//-----------------------Impresión de gráficos después de remoción------------------------------------//\n"
     ]
    },
    {
     "data": {
      "image/png": "[encoded data removed]",
      "text/plain": [
       "<Figure size 720x504 with 2 Axes>"
      ]
     },
     "metadata": {},
     "output_type": "display_data"
    },
    {
     "name": "stdout",
     "output_type": "stream",
     "text": [
      "//-----------------------Estadística de outliers en  bathrooms  después de remoción --------------------------//\n"
     ]
    },
    {
     "data": {
      "text/plain": [
       "count    79649.000000\n",
       "mean         1.515888\n",
       "std          0.758921\n",
       "min          1.000000\n",
       "25%          1.000000\n",
       "50%          1.000000\n",
       "75%          2.000000\n",
       "max          4.000000\n",
       "Name: bathrooms, dtype: float64"
      ]
     },
     "metadata": {},
     "output_type": "display_data"
    }
   ],
   "source": [
    "outliers('bathrooms')"
   ]
  },
  {
   "cell_type": "markdown",
   "metadata": {},
   "source": [
    "#### bedrooms\n",
    "<hr>"
   ]
  },
  {
   "cell_type": "code",
   "execution_count": 17,
   "metadata": {},
   "outputs": [
    {
     "name": "stdout",
     "output_type": "stream",
     "text": [
      "//-----------------------Distribución en  bedrooms antes de remoción------------------------------------//\n"
     ]
    },
    {
     "data": {
      "text/plain": [
       "count    81291.000000\n",
       "mean         1.998745\n",
       "std          1.045831\n",
       "min          0.000000\n",
       "25%          1.000000\n",
       "50%          2.000000\n",
       "75%          3.000000\n",
       "max         15.000000\n",
       "Name: bedrooms, dtype: float64"
      ]
     },
     "metadata": {},
     "output_type": "display_data"
    },
    {
     "data": {
      "image/png": "[encoded data removed]",
      "text/plain": [
       "<Figure size 720x504 with 2 Axes>"
      ]
     },
     "metadata": {},
     "output_type": "display_data"
    },
    {
     "name": "stdout",
     "output_type": "stream",
     "text": [
      "//-----------------------Estadística de outliers en  bedrooms  antes de remoción --------------------------//\n",
      "Suma de outliers en  bedrooms  => 528\n",
      "Shape before =>  (81291, 9)\n",
      "Shape after =>  (80763, 9)\n",
      "//-----------------------Impresión de gráficos después de remoción------------------------------------//\n"
     ]
    },
    {
     "data": {
      "image/png": "[encoded data removed]",
      "text/plain": [
       "<Figure size 720x504 with 2 Axes>"
      ]
     },
     "metadata": {},
     "output_type": "display_data"
    },
    {
     "name": "stdout",
     "output_type": "stream",
     "text": [
      "//-----------------------Estadística de outliers en  bedrooms  después de remoción --------------------------//\n"
     ]
    },
    {
     "data": {
      "text/plain": [
       "count    80763.000000\n",
       "mean         1.966457\n",
       "std          0.961237\n",
       "min          0.000000\n",
       "25%          1.000000\n",
       "50%          2.000000\n",
       "75%          3.000000\n",
       "max          5.000000\n",
       "Name: bedrooms, dtype: float64"
      ]
     },
     "metadata": {},
     "output_type": "display_data"
    }
   ],
   "source": [
    "outliers('bedrooms')"
   ]
  },
  {
   "cell_type": "code",
   "execution_count": 18,
   "metadata": {},
   "outputs": [
    {
     "data": {
      "text/html": [
       "<div>\n",
       "<style scoped>\n",
       "    .dataframe tbody tr th:only-of-type {\n",
       "        vertical-align: middle;\n",
       "    }\n",
       "\n",
       "    .dataframe tbody tr th {\n",
       "        vertical-align: top;\n",
       "    }\n",
       "\n",
       "    .dataframe thead th {\n",
       "        text-align: right;\n",
       "    }\n",
       "</style>\n",
       "<table border=\"1\" class=\"dataframe\">\n",
       "  <thead>\n",
       "    <tr style=\"text-align: right;\">\n",
       "      <th></th>\n",
       "      <th>rooms</th>\n",
       "      <th>bedrooms</th>\n",
       "      <th>bathrooms</th>\n",
       "      <th>surface_total</th>\n",
       "      <th>surface_covered</th>\n",
       "      <th>price</th>\n",
       "    </tr>\n",
       "  </thead>\n",
       "  <tbody>\n",
       "    <tr>\n",
       "      <th>count</th>\n",
       "      <td>80018.000000</td>\n",
       "      <td>80763.000000</td>\n",
       "      <td>79649.000000</td>\n",
       "      <td>81176.000000</td>\n",
       "      <td>81215.000000</td>\n",
       "      <td>7.980800e+04</td>\n",
       "    </tr>\n",
       "    <tr>\n",
       "      <th>mean</th>\n",
       "      <td>2.925879</td>\n",
       "      <td>1.966457</td>\n",
       "      <td>1.515888</td>\n",
       "      <td>96.013194</td>\n",
       "      <td>82.264225</td>\n",
       "      <td>2.332734e+05</td>\n",
       "    </tr>\n",
       "    <tr>\n",
       "      <th>std</th>\n",
       "      <td>1.128083</td>\n",
       "      <td>0.961237</td>\n",
       "      <td>0.758921</td>\n",
       "      <td>84.746537</td>\n",
       "      <td>63.007970</td>\n",
       "      <td>1.786064e+05</td>\n",
       "    </tr>\n",
       "    <tr>\n",
       "      <th>min</th>\n",
       "      <td>1.000000</td>\n",
       "      <td>0.000000</td>\n",
       "      <td>1.000000</td>\n",
       "      <td>12.000000</td>\n",
       "      <td>1.000000</td>\n",
       "      <td>6.000000e+03</td>\n",
       "    </tr>\n",
       "    <tr>\n",
       "      <th>25%</th>\n",
       "      <td>2.000000</td>\n",
       "      <td>1.000000</td>\n",
       "      <td>1.000000</td>\n",
       "      <td>49.000000</td>\n",
       "      <td>44.000000</td>\n",
       "      <td>1.249000e+05</td>\n",
       "    </tr>\n",
       "    <tr>\n",
       "      <th>50%</th>\n",
       "      <td>3.000000</td>\n",
       "      <td>2.000000</td>\n",
       "      <td>1.000000</td>\n",
       "      <td>71.000000</td>\n",
       "      <td>63.000000</td>\n",
       "      <td>1.770000e+05</td>\n",
       "    </tr>\n",
       "    <tr>\n",
       "      <th>75%</th>\n",
       "      <td>4.000000</td>\n",
       "      <td>3.000000</td>\n",
       "      <td>2.000000</td>\n",
       "      <td>111.000000</td>\n",
       "      <td>96.000000</td>\n",
       "      <td>2.730000e+05</td>\n",
       "    </tr>\n",
       "    <tr>\n",
       "      <th>max</th>\n",
       "      <td>6.000000</td>\n",
       "      <td>5.000000</td>\n",
       "      <td>4.000000</td>\n",
       "      <td>3070.000000</td>\n",
       "      <td>1400.000000</td>\n",
       "      <td>1.260000e+06</td>\n",
       "    </tr>\n",
       "  </tbody>\n",
       "</table>\n",
       "</div>"
      ],
      "text/plain": [
       "              rooms      bedrooms     bathrooms  surface_total  \\\n",
       "count  80018.000000  80763.000000  79649.000000   81176.000000   \n",
       "mean       2.925879      1.966457      1.515888      96.013194   \n",
       "std        1.128083      0.961237      0.758921      84.746537   \n",
       "min        1.000000      0.000000      1.000000      12.000000   \n",
       "25%        2.000000      1.000000      1.000000      49.000000   \n",
       "50%        3.000000      2.000000      1.000000      71.000000   \n",
       "75%        4.000000      3.000000      2.000000     111.000000   \n",
       "max        6.000000      5.000000      4.000000    3070.000000   \n",
       "\n",
       "       surface_covered         price  \n",
       "count     81215.000000  7.980800e+04  \n",
       "mean         82.264225  2.332734e+05  \n",
       "std          63.007970  1.786064e+05  \n",
       "min           1.000000  6.000000e+03  \n",
       "25%          44.000000  1.249000e+05  \n",
       "50%          63.000000  1.770000e+05  \n",
       "75%          96.000000  2.730000e+05  \n",
       "max        1400.000000  1.260000e+06  "
      ]
     },
     "execution_count": 18,
     "metadata": {},
     "output_type": "execute_result"
    }
   ],
   "source": [
    "#Chequeamos que nuestra variable auxiliar esté como corresponde\n",
    "df_01.describe()"
   ]
  },
  {
   "cell_type": "code",
   "execution_count": 19,
   "metadata": {},
   "outputs": [
    {
     "data": {
      "text/plain": [
       "l2                    0\n",
       "l3                    0\n",
       "rooms              1273\n",
       "bedrooms            528\n",
       "bathrooms          1642\n",
       "surface_total       115\n",
       "surface_covered      76\n",
       "price              1483\n",
       "property_type         0\n",
       "dtype: int64"
      ]
     },
     "execution_count": 19,
     "metadata": {},
     "output_type": "execute_result"
    }
   ],
   "source": [
    "df_01.isna().sum()"
   ]
  },
  {
   "cell_type": "markdown",
   "metadata": {},
   "source": [
    "## Escalado de datos\n",
    "<hr></hr>\n",
    "<div id=\"encoding\" style=\"background-color: LightGray; padding: 10px 20px 10px 10px\">\n",
    "    <h3>¿Por qué?</h3>\n",
    "    <p>Queremos que nuestros modelos sean lo más eficieintes a la hora de predecir el precio de unidades. </p>        \n",
    "    <p>Para ello, será importante que las métricas que utilicemos queden escaladas de forma tal que nuestros modelos no subestimen ni sobrestimen los valores numéricos de cada feature. </p>        \n",
    "    <p>Tenemos en cuenta que el escalado es mayormnete propicio para modelos basados en cercanía, como KNN. Puede que al final del proyecto terminemos usando más árboles de decisión, pero todas formas estos no se ven afectados por el proceso de escalado. En definitiva, el proceso es pura ganancia, sobre todo cuando trabajemos con modelos basados en vecinos más cercanos.</p>\n",
    "</div>"
   ]
  },
  {
   "cell_type": "code",
   "execution_count": 20,
   "metadata": {},
   "outputs": [
    {
     "data": {
      "text/html": [
       "<div>\n",
       "<style scoped>\n",
       "    .dataframe tbody tr th:only-of-type {\n",
       "        vertical-align: middle;\n",
       "    }\n",
       "\n",
       "    .dataframe tbody tr th {\n",
       "        vertical-align: top;\n",
       "    }\n",
       "\n",
       "    .dataframe thead th {\n",
       "        text-align: right;\n",
       "    }\n",
       "</style>\n",
       "<table border=\"1\" class=\"dataframe\">\n",
       "  <thead>\n",
       "    <tr style=\"text-align: right;\">\n",
       "      <th></th>\n",
       "      <th>surface_covered</th>\n",
       "      <th>surface_total</th>\n",
       "      <th>rooms</th>\n",
       "      <th>bedrooms</th>\n",
       "      <th>bathrooms</th>\n",
       "    </tr>\n",
       "  </thead>\n",
       "  <tbody>\n",
       "    <tr>\n",
       "      <th>0</th>\n",
       "      <td>140.0</td>\n",
       "      <td>140.0</td>\n",
       "      <td>NaN</td>\n",
       "      <td>NaN</td>\n",
       "      <td>2.0</td>\n",
       "    </tr>\n",
       "    <tr>\n",
       "      <th>1</th>\n",
       "      <td>58.0</td>\n",
       "      <td>70.0</td>\n",
       "      <td>2.0</td>\n",
       "      <td>1.0</td>\n",
       "      <td>2.0</td>\n",
       "    </tr>\n",
       "    <tr>\n",
       "      <th>2</th>\n",
       "      <td>45.0</td>\n",
       "      <td>45.0</td>\n",
       "      <td>2.0</td>\n",
       "      <td>1.0</td>\n",
       "      <td>1.0</td>\n",
       "    </tr>\n",
       "    <tr>\n",
       "      <th>3</th>\n",
       "      <td>50.0</td>\n",
       "      <td>85.0</td>\n",
       "      <td>2.0</td>\n",
       "      <td>1.0</td>\n",
       "      <td>1.0</td>\n",
       "    </tr>\n",
       "    <tr>\n",
       "      <th>5</th>\n",
       "      <td>56.0</td>\n",
       "      <td>56.0</td>\n",
       "      <td>2.0</td>\n",
       "      <td>1.0</td>\n",
       "      <td>1.0</td>\n",
       "    </tr>\n",
       "  </tbody>\n",
       "</table>\n",
       "</div>"
      ],
      "text/plain": [
       "   surface_covered  surface_total  rooms  bedrooms  bathrooms\n",
       "0            140.0          140.0    NaN       NaN        2.0\n",
       "1             58.0           70.0    2.0       1.0        2.0\n",
       "2             45.0           45.0    2.0       1.0        1.0\n",
       "3             50.0           85.0    2.0       1.0        1.0\n",
       "5             56.0           56.0    2.0       1.0        1.0"
      ]
     },
     "execution_count": 20,
     "metadata": {},
     "output_type": "execute_result"
    }
   ],
   "source": [
    "# Creamos una variable auxiliar para el proceso de escalado\n",
    "dfaux = df_01\n",
    "df_2 = df_01[['surface_covered', 'surface_total', 'rooms', 'bedrooms', 'bathrooms']]\n",
    "df_2.head()"
   ]
  },
  {
   "cell_type": "code",
   "execution_count": 21,
   "metadata": {},
   "outputs": [],
   "source": [
    "media = df_2.mean()\n",
    "var = df_2.std()\n",
    "rdata = (df_2 - media)/ var"
   ]
  },
  {
   "cell_type": "code",
   "execution_count": 22,
   "metadata": {},
   "outputs": [],
   "source": [
    "dfaux['surface_covered'] = rdata['surface_covered']\n",
    "dfaux['surface_total'] = rdata['surface_total']\n",
    "dfaux['rooms'] = rdata['rooms']\n",
    "dfaux['bedrooms'] = rdata['bedrooms']\n",
    "dfaux['bathrooms'] = df_2['bathrooms']"
   ]
  },
  {
   "cell_type": "code",
   "execution_count": 23,
   "metadata": {},
   "outputs": [
    {
     "data": {
      "text/plain": [
       "(81291, 9)"
      ]
     },
     "execution_count": 23,
     "metadata": {},
     "output_type": "execute_result"
    }
   ],
   "source": [
    "dfaux.shape"
   ]
  },
  {
   "cell_type": "code",
   "execution_count": 24,
   "metadata": {},
   "outputs": [
    {
     "data": {
      "text/html": [
       "<div>\n",
       "<style scoped>\n",
       "    .dataframe tbody tr th:only-of-type {\n",
       "        vertical-align: middle;\n",
       "    }\n",
       "\n",
       "    .dataframe tbody tr th {\n",
       "        vertical-align: top;\n",
       "    }\n",
       "\n",
       "    .dataframe thead th {\n",
       "        text-align: right;\n",
       "    }\n",
       "</style>\n",
       "<table border=\"1\" class=\"dataframe\">\n",
       "  <thead>\n",
       "    <tr style=\"text-align: right;\">\n",
       "      <th></th>\n",
       "      <th>l2</th>\n",
       "      <th>l3</th>\n",
       "      <th>rooms</th>\n",
       "      <th>bedrooms</th>\n",
       "      <th>bathrooms</th>\n",
       "      <th>surface_total</th>\n",
       "      <th>surface_covered</th>\n",
       "      <th>price</th>\n",
       "      <th>property_type</th>\n",
       "    </tr>\n",
       "  </thead>\n",
       "  <tbody>\n",
       "    <tr>\n",
       "      <th>0</th>\n",
       "      <td>Capital Federal</td>\n",
       "      <td>San Cristobal</td>\n",
       "      <td>NaN</td>\n",
       "      <td>NaN</td>\n",
       "      <td>2.0</td>\n",
       "      <td>0.519040</td>\n",
       "      <td>0.916325</td>\n",
       "      <td>153000.0</td>\n",
       "      <td>Departamento</td>\n",
       "    </tr>\n",
       "    <tr>\n",
       "      <th>1</th>\n",
       "      <td>Capital Federal</td>\n",
       "      <td>Boedo</td>\n",
       "      <td>-0.820754</td>\n",
       "      <td>-1.005431</td>\n",
       "      <td>2.0</td>\n",
       "      <td>-0.306953</td>\n",
       "      <td>-0.385098</td>\n",
       "      <td>159000.0</td>\n",
       "      <td>PH</td>\n",
       "    </tr>\n",
       "    <tr>\n",
       "      <th>2</th>\n",
       "      <td>Capital Federal</td>\n",
       "      <td>Palermo</td>\n",
       "      <td>-0.820754</td>\n",
       "      <td>-1.005431</td>\n",
       "      <td>1.0</td>\n",
       "      <td>-0.601950</td>\n",
       "      <td>-0.591421</td>\n",
       "      <td>125000.0</td>\n",
       "      <td>PH</td>\n",
       "    </tr>\n",
       "  </tbody>\n",
       "</table>\n",
       "</div>"
      ],
      "text/plain": [
       "                l2             l3     rooms  bedrooms  bathrooms  \\\n",
       "0  Capital Federal  San Cristobal       NaN       NaN        2.0   \n",
       "1  Capital Federal          Boedo -0.820754 -1.005431        2.0   \n",
       "2  Capital Federal        Palermo -0.820754 -1.005431        1.0   \n",
       "\n",
       "   surface_total  surface_covered     price property_type  \n",
       "0       0.519040         0.916325  153000.0  Departamento  \n",
       "1      -0.306953        -0.385098  159000.0            PH  \n",
       "2      -0.601950        -0.591421  125000.0            PH  "
      ]
     },
     "execution_count": 24,
     "metadata": {},
     "output_type": "execute_result"
    }
   ],
   "source": [
    "dfaux.head(3)"
   ]
  },
  {
   "cell_type": "markdown",
   "metadata": {},
   "source": [
    "## Valores faltantes\n",
    "<hr id=\"imputacion\"></hr>"
   ]
  },
  {
   "cell_type": "markdown",
   "metadata": {},
   "source": [
    "<div style=\"background-color: LightGray; padding: 10px 20px 10px 10px\">\n",
    "    <h3>¿Por qué?</h3>\n",
    "    <p>Cuanto más datos tengamos, mayor potencialidad tendrán nuestros modelos. </p>\n",
    "    <p>Ante semejante principio, se vuelve toda una pregunta y un problema plantearse acerca de los datos que por un razón u otra no están presentes en nuestros datasets. \n",
    "       <br>Ante esta situación, bien puede planterse una estrategia de eliminación de columnas y o filas para paliar así el problema que implica la ausencia de los mismos.\n",
    "        <br>Sin emabrgo, hay varias estrategias que pueden servirnos para \"completar\" estos datos. Estas estrategias están basadas en el reconocimiento de que para ciertos valores aausentes de ciertas instancias, existen otros regstros parecidos que peden darnos una pista de cómo inferirlos para acrecentar nuestro dataset. Indagaremos más adelante en una de ellas. \n",
    "        \n",
    "</div>\n",
    "    "
   ]
  },
  {
   "cell_type": "markdown",
   "metadata": {},
   "source": [
    "<div style=\"background-color: bisque; padding: 5px 5px 5px 5px\">\n",
    "    <h5>Observaciones</h5>\n",
    "    <ul>\n",
    "        <li>En el dataset original, los datos faltantes son extremedamente más altos.</li>\n",
    "        <li>Estos han desaparecido prácticamente a través del proceso de eliminación de outliers y a través de la reducción del dataset en términos de features seleccionadas, e instancias de cierto tipo eliminadas.</li>\n",
    "    </ul>\n",
    "    <hr>\n",
    "    <h5>Procedimientos</h5>\n",
    "    Sólo nos resta generar una estrategia para suplir los valores faltantes en <i>bathrooms</i>. <br>\n",
    "    <strong>Para eso haremos uso de KNNImputer</strong>\n",
    "</div>"
   ]
  },
  {
   "cell_type": "code",
   "execution_count": 25,
   "metadata": {},
   "outputs": [],
   "source": [
    "# Creación de variable auxiliar para el proceso de impuación\n",
    "dfimp = dfaux"
   ]
  },
  {
   "cell_type": "code",
   "execution_count": 26,
   "metadata": {},
   "outputs": [
    {
     "data": {
      "text/html": [
       "<div>\n",
       "<style scoped>\n",
       "    .dataframe tbody tr th:only-of-type {\n",
       "        vertical-align: middle;\n",
       "    }\n",
       "\n",
       "    .dataframe tbody tr th {\n",
       "        vertical-align: top;\n",
       "    }\n",
       "\n",
       "    .dataframe thead th {\n",
       "        text-align: right;\n",
       "    }\n",
       "</style>\n",
       "<table border=\"1\" class=\"dataframe\">\n",
       "  <thead>\n",
       "    <tr style=\"text-align: right;\">\n",
       "      <th></th>\n",
       "      <th>0</th>\n",
       "    </tr>\n",
       "  </thead>\n",
       "  <tbody>\n",
       "    <tr>\n",
       "      <th>l2</th>\n",
       "      <td>0</td>\n",
       "    </tr>\n",
       "    <tr>\n",
       "      <th>l3</th>\n",
       "      <td>0</td>\n",
       "    </tr>\n",
       "    <tr>\n",
       "      <th>rooms</th>\n",
       "      <td>1273</td>\n",
       "    </tr>\n",
       "    <tr>\n",
       "      <th>bedrooms</th>\n",
       "      <td>528</td>\n",
       "    </tr>\n",
       "    <tr>\n",
       "      <th>bathrooms</th>\n",
       "      <td>1642</td>\n",
       "    </tr>\n",
       "    <tr>\n",
       "      <th>surface_total</th>\n",
       "      <td>115</td>\n",
       "    </tr>\n",
       "    <tr>\n",
       "      <th>surface_covered</th>\n",
       "      <td>76</td>\n",
       "    </tr>\n",
       "    <tr>\n",
       "      <th>price</th>\n",
       "      <td>1483</td>\n",
       "    </tr>\n",
       "    <tr>\n",
       "      <th>property_type</th>\n",
       "      <td>0</td>\n",
       "    </tr>\n",
       "  </tbody>\n",
       "</table>\n",
       "</div>"
      ],
      "text/plain": [
       "                    0\n",
       "l2                  0\n",
       "l3                  0\n",
       "rooms            1273\n",
       "bedrooms          528\n",
       "bathrooms        1642\n",
       "surface_total     115\n",
       "surface_covered    76\n",
       "price            1483\n",
       "property_type       0"
      ]
     },
     "metadata": {},
     "output_type": "display_data"
    }
   ],
   "source": [
    "#DATOS FALTANTES\n",
    "display(dfimp.isna().sum().to_frame())"
   ]
  },
  {
   "cell_type": "markdown",
   "metadata": {},
   "source": [
    "#### KNNImputer"
   ]
  },
  {
   "cell_type": "code",
   "execution_count": 27,
   "metadata": {},
   "outputs": [],
   "source": [
    "from sklearn.impute import KNNImputer\n",
    "imputer = KNNImputer(missing_values=np.nan, n_neighbors=5, weights='uniform')\n",
    "X = dfimp[['rooms', 'bedrooms', 'bathrooms', 'surface_total','surface_covered']]\n",
    "X_filled = imputer.fit_transform(X)\n",
    "X_filled_df = pd.DataFrame(X_filled)"
   ]
  },
  {
   "cell_type": "code",
   "execution_count": 28,
   "metadata": {},
   "outputs": [],
   "source": [
    "dfimp2 = pd.DataFrame()"
   ]
  },
  {
   "cell_type": "code",
   "execution_count": 29,
   "metadata": {},
   "outputs": [
    {
     "data": {
      "text/plain": [
       "l2                    0\n",
       "l3                    0\n",
       "rooms                 0\n",
       "bedrooms              0\n",
       "bathrooms             0\n",
       "surface_total         0\n",
       "surface_covered       0\n",
       "price              1483\n",
       "property_type         0\n",
       "dtype: int64"
      ]
     },
     "execution_count": 29,
     "metadata": {},
     "output_type": "execute_result"
    }
   ],
   "source": [
    "dfimp['rooms'] = X_filled_df[0].values\n",
    "dfimp['bedrooms'] = X_filled_df[1].values\n",
    "dfimp['bathrooms'] = X_filled_df[2].values\n",
    "dfimp['surface_total'] = X_filled_df[3].values\n",
    "dfimp['surface_covered'] = X_filled_df[4].values\n",
    "dfimp.isna().sum()"
   ]
  },
  {
   "cell_type": "code",
   "execution_count": 30,
   "metadata": {},
   "outputs": [
    {
     "data": {
      "text/plain": [
       "l2                 0\n",
       "l3                 0\n",
       "rooms              0\n",
       "bedrooms           0\n",
       "bathrooms          0\n",
       "surface_total      0\n",
       "surface_covered    0\n",
       "price              0\n",
       "property_type      0\n",
       "dtype: int64"
      ]
     },
     "execution_count": 30,
     "metadata": {},
     "output_type": "execute_result"
    }
   ],
   "source": [
    "dfimp = dfimp.dropna()\n",
    "dfimp.isna().sum()"
   ]
  },
  {
   "cell_type": "code",
   "execution_count": 31,
   "metadata": {},
   "outputs": [
    {
     "data": {
      "text/plain": [
       "(79808, 9)"
      ]
     },
     "execution_count": 31,
     "metadata": {},
     "output_type": "execute_result"
    }
   ],
   "source": [
    "dfimp.shape"
   ]
  },
  {
   "cell_type": "markdown",
   "metadata": {},
   "source": [
    "## Encoding\n",
    "<hr></hr>\n",
    "<div id=\"encoding\" style=\"background-color: LightGray; padding: 10px 20px 10px 10px\">\n",
    "    <h3>¿Por qué?</h3>\n",
    "    <p>Queremos que nuestros modelos sean lo más eficieintes a la hora de predecir el precio de unidades. </p>        \n",
    "    <p>Para ello, una de las vriables a la que naturalmente le vamos a conferir importancia es, justamente, el tipo de propiedad que manejamos. </p>        \n",
    "    <p>Como este dato lo tenemos registrado en tipo texto, procedemos con el encoding necesario para poder contar con este feature en nuestros modelo. </p>\n",
    "</div>"
   ]
  },
  {
   "cell_type": "markdown",
   "metadata": {},
   "source": [
    "<div style=\"background-color: bisque; padding: 5px 5px 5px 5px\">\n",
    "    <h5>Observaciones</h5>\n",
    "    <ul>\n",
    "        <li>De entre las variable de tipo texto que nos interesan están las regiones geográficas y tipo de propiedad, como ya lo dijimos.</li>\n",
    "        <li>Como l3 (región/barrio) tiene 57 valores, no es seguro avanzar con dicha estrategia dado el crecimiento dimensional de nuestro dataset si lo hacemos.  </li>\n",
    "    </ul>\n",
    "    <hr>\n",
    "    <h5>Procedimientos</h5>\n",
    "    Teniendo en cuenta que el tipo de propiedad solo tiene 3 valores, procedemos con su encoding <br>\n",
    "    Para ello haremos uso de <i>pandas.get_dummies()</i>\n",
    "</div>"
   ]
  },
  {
   "cell_type": "code",
   "execution_count": 32,
   "metadata": {},
   "outputs": [],
   "source": [
    "# Creamos variables auxiliares para el proceso de encoding\n",
    "df_3 = dfimp\n",
    "y = pd.get_dummies(df_3.property_type, prefix=\"t-\")"
   ]
  },
  {
   "cell_type": "code",
   "execution_count": 33,
   "metadata": {},
   "outputs": [
    {
     "data": {
      "text/html": [
       "<div>\n",
       "<style scoped>\n",
       "    .dataframe tbody tr th:only-of-type {\n",
       "        vertical-align: middle;\n",
       "    }\n",
       "\n",
       "    .dataframe tbody tr th {\n",
       "        vertical-align: top;\n",
       "    }\n",
       "\n",
       "    .dataframe thead th {\n",
       "        text-align: right;\n",
       "    }\n",
       "</style>\n",
       "<table border=\"1\" class=\"dataframe\">\n",
       "  <thead>\n",
       "    <tr style=\"text-align: right;\">\n",
       "      <th></th>\n",
       "      <th>t-_Casa</th>\n",
       "      <th>t-_Departamento</th>\n",
       "      <th>t-_PH</th>\n",
       "    </tr>\n",
       "  </thead>\n",
       "  <tbody>\n",
       "    <tr>\n",
       "      <th>0</th>\n",
       "      <td>0</td>\n",
       "      <td>1</td>\n",
       "      <td>0</td>\n",
       "    </tr>\n",
       "    <tr>\n",
       "      <th>1</th>\n",
       "      <td>0</td>\n",
       "      <td>0</td>\n",
       "      <td>1</td>\n",
       "    </tr>\n",
       "    <tr>\n",
       "      <th>2</th>\n",
       "      <td>0</td>\n",
       "      <td>0</td>\n",
       "      <td>1</td>\n",
       "    </tr>\n",
       "    <tr>\n",
       "      <th>3</th>\n",
       "      <td>0</td>\n",
       "      <td>0</td>\n",
       "      <td>1</td>\n",
       "    </tr>\n",
       "    <tr>\n",
       "      <th>5</th>\n",
       "      <td>0</td>\n",
       "      <td>0</td>\n",
       "      <td>1</td>\n",
       "    </tr>\n",
       "  </tbody>\n",
       "</table>\n",
       "</div>"
      ],
      "text/plain": [
       "   t-_Casa  t-_Departamento  t-_PH\n",
       "0        0                1      0\n",
       "1        0                0      1\n",
       "2        0                0      1\n",
       "3        0                0      1\n",
       "5        0                0      1"
      ]
     },
     "execution_count": 33,
     "metadata": {},
     "output_type": "execute_result"
    }
   ],
   "source": [
    "y.head()"
   ]
  },
  {
   "cell_type": "code",
   "execution_count": 34,
   "metadata": {},
   "outputs": [],
   "source": [
    "df_4 = pd.DataFrame()"
   ]
  },
  {
   "cell_type": "code",
   "execution_count": 35,
   "metadata": {},
   "outputs": [],
   "source": [
    "df_4 = df_3"
   ]
  },
  {
   "cell_type": "code",
   "execution_count": 36,
   "metadata": {},
   "outputs": [
    {
     "name": "stderr",
     "output_type": "stream",
     "text": [
      "C:\\ProgramData\\Anaconda3\\lib\\site-packages\\ipykernel_launcher.py:1: SettingWithCopyWarning: \n",
      "A value is trying to be set on a copy of a slice from a DataFrame.\n",
      "Try using .loc[row_indexer,col_indexer] = value instead\n",
      "\n",
      "See the caveats in the documentation: https://pandas.pydata.org/pandas-docs/stable/user_guide/indexing.html#returning-a-view-versus-a-copy\n",
      "  \"\"\"Entry point for launching an IPython kernel.\n"
     ]
    }
   ],
   "source": [
    "df_4['casa'] = y['t-_Casa']"
   ]
  },
  {
   "cell_type": "code",
   "execution_count": 37,
   "metadata": {},
   "outputs": [
    {
     "name": "stderr",
     "output_type": "stream",
     "text": [
      "C:\\ProgramData\\Anaconda3\\lib\\site-packages\\ipykernel_launcher.py:1: SettingWithCopyWarning: \n",
      "A value is trying to be set on a copy of a slice from a DataFrame.\n",
      "Try using .loc[row_indexer,col_indexer] = value instead\n",
      "\n",
      "See the caveats in the documentation: https://pandas.pydata.org/pandas-docs/stable/user_guide/indexing.html#returning-a-view-versus-a-copy\n",
      "  \"\"\"Entry point for launching an IPython kernel.\n"
     ]
    }
   ],
   "source": [
    "df_4['depto'] = y['t-_Departamento']"
   ]
  },
  {
   "cell_type": "code",
   "execution_count": 38,
   "metadata": {},
   "outputs": [
    {
     "name": "stderr",
     "output_type": "stream",
     "text": [
      "C:\\ProgramData\\Anaconda3\\lib\\site-packages\\ipykernel_launcher.py:1: SettingWithCopyWarning: \n",
      "A value is trying to be set on a copy of a slice from a DataFrame.\n",
      "Try using .loc[row_indexer,col_indexer] = value instead\n",
      "\n",
      "See the caveats in the documentation: https://pandas.pydata.org/pandas-docs/stable/user_guide/indexing.html#returning-a-view-versus-a-copy\n",
      "  \"\"\"Entry point for launching an IPython kernel.\n"
     ]
    }
   ],
   "source": [
    "df_4['ph'] = y['t-_PH']"
   ]
  },
  {
   "cell_type": "code",
   "execution_count": 39,
   "metadata": {},
   "outputs": [
    {
     "name": "stderr",
     "output_type": "stream",
     "text": [
      "C:\\ProgramData\\Anaconda3\\lib\\site-packages\\pandas\\core\\frame.py:3997: SettingWithCopyWarning: \n",
      "A value is trying to be set on a copy of a slice from a DataFrame\n",
      "\n",
      "See the caveats in the documentation: https://pandas.pydata.org/pandas-docs/stable/user_guide/indexing.html#returning-a-view-versus-a-copy\n",
      "  errors=errors,\n"
     ]
    },
    {
     "data": {
      "text/html": [
       "<div>\n",
       "<style scoped>\n",
       "    .dataframe tbody tr th:only-of-type {\n",
       "        vertical-align: middle;\n",
       "    }\n",
       "\n",
       "    .dataframe tbody tr th {\n",
       "        vertical-align: top;\n",
       "    }\n",
       "\n",
       "    .dataframe thead th {\n",
       "        text-align: right;\n",
       "    }\n",
       "</style>\n",
       "<table border=\"1\" class=\"dataframe\">\n",
       "  <thead>\n",
       "    <tr style=\"text-align: right;\">\n",
       "      <th></th>\n",
       "      <th>l2</th>\n",
       "      <th>l3</th>\n",
       "      <th>rooms</th>\n",
       "      <th>bedrooms</th>\n",
       "      <th>bathrooms</th>\n",
       "      <th>surface_total</th>\n",
       "      <th>surface_covered</th>\n",
       "      <th>price</th>\n",
       "      <th>casa</th>\n",
       "      <th>depto</th>\n",
       "      <th>ph</th>\n",
       "    </tr>\n",
       "  </thead>\n",
       "  <tbody>\n",
       "    <tr>\n",
       "      <th>0</th>\n",
       "      <td>Capital Federal</td>\n",
       "      <td>San Cristobal</td>\n",
       "      <td>1.129456</td>\n",
       "      <td>1.491352</td>\n",
       "      <td>2.0</td>\n",
       "      <td>0.519040</td>\n",
       "      <td>0.916325</td>\n",
       "      <td>153000.0</td>\n",
       "      <td>0</td>\n",
       "      <td>1</td>\n",
       "      <td>0</td>\n",
       "    </tr>\n",
       "    <tr>\n",
       "      <th>1</th>\n",
       "      <td>Capital Federal</td>\n",
       "      <td>Boedo</td>\n",
       "      <td>-0.820754</td>\n",
       "      <td>-1.005431</td>\n",
       "      <td>2.0</td>\n",
       "      <td>-0.306953</td>\n",
       "      <td>-0.385098</td>\n",
       "      <td>159000.0</td>\n",
       "      <td>0</td>\n",
       "      <td>0</td>\n",
       "      <td>1</td>\n",
       "    </tr>\n",
       "    <tr>\n",
       "      <th>2</th>\n",
       "      <td>Capital Federal</td>\n",
       "      <td>Palermo</td>\n",
       "      <td>-0.820754</td>\n",
       "      <td>-1.005431</td>\n",
       "      <td>1.0</td>\n",
       "      <td>-0.601950</td>\n",
       "      <td>-0.591421</td>\n",
       "      <td>125000.0</td>\n",
       "      <td>0</td>\n",
       "      <td>0</td>\n",
       "      <td>1</td>\n",
       "    </tr>\n",
       "    <tr>\n",
       "      <th>3</th>\n",
       "      <td>Capital Federal</td>\n",
       "      <td>Palermo</td>\n",
       "      <td>-0.820754</td>\n",
       "      <td>-1.005431</td>\n",
       "      <td>1.0</td>\n",
       "      <td>-0.129954</td>\n",
       "      <td>-0.512066</td>\n",
       "      <td>295000.0</td>\n",
       "      <td>0</td>\n",
       "      <td>0</td>\n",
       "      <td>1</td>\n",
       "    </tr>\n",
       "    <tr>\n",
       "      <th>5</th>\n",
       "      <td>Capital Federal</td>\n",
       "      <td>Villa Crespo</td>\n",
       "      <td>-0.820754</td>\n",
       "      <td>-1.005431</td>\n",
       "      <td>1.0</td>\n",
       "      <td>-0.472151</td>\n",
       "      <td>-0.416840</td>\n",
       "      <td>150000.0</td>\n",
       "      <td>0</td>\n",
       "      <td>0</td>\n",
       "      <td>1</td>\n",
       "    </tr>\n",
       "  </tbody>\n",
       "</table>\n",
       "</div>"
      ],
      "text/plain": [
       "                l2             l3     rooms  bedrooms  bathrooms  \\\n",
       "0  Capital Federal  San Cristobal  1.129456  1.491352        2.0   \n",
       "1  Capital Federal          Boedo -0.820754 -1.005431        2.0   \n",
       "2  Capital Federal        Palermo -0.820754 -1.005431        1.0   \n",
       "3  Capital Federal        Palermo -0.820754 -1.005431        1.0   \n",
       "5  Capital Federal   Villa Crespo -0.820754 -1.005431        1.0   \n",
       "\n",
       "   surface_total  surface_covered     price  casa  depto  ph  \n",
       "0       0.519040         0.916325  153000.0     0      1   0  \n",
       "1      -0.306953        -0.385098  159000.0     0      0   1  \n",
       "2      -0.601950        -0.591421  125000.0     0      0   1  \n",
       "3      -0.129954        -0.512066  295000.0     0      0   1  \n",
       "5      -0.472151        -0.416840  150000.0     0      0   1  "
      ]
     },
     "execution_count": 39,
     "metadata": {},
     "output_type": "execute_result"
    }
   ],
   "source": [
    "df_4.drop(['property_type'], axis=1, inplace=True)\n",
    "df_4.head()"
   ]
  },
  {
   "cell_type": "code",
   "execution_count": 40,
   "metadata": {},
   "outputs": [
    {
     "data": {
      "text/plain": [
       "Text(0.5, 1, 'Correlaciones entre variables')"
      ]
     },
     "execution_count": 40,
     "metadata": {},
     "output_type": "execute_result"
    },
    {
     "data": {
      "image/png": "[encoded data removed]",
      "text/plain": [
       "<Figure size 720x720 with 2 Axes>"
      ]
     },
     "metadata": {},
     "output_type": "display_data"
    }
   ],
   "source": [
    "fig, ax = plt.subplots(figsize=(10,10))  \n",
    "sns.heatmap(df_4.corr(), vmin=-1, cmap='coolwarm', annot= True).set_title('Correlaciones entre variables', size=22)"
   ]
  },
  {
   "cell_type": "markdown",
   "metadata": {},
   "source": [
    "# Modelos entrenados en el Proyecto 01\n",
    "<hr id=\"mod1\">"
   ]
  },
  {
   "cell_type": "code",
   "execution_count": 41,
   "metadata": {},
   "outputs": [],
   "source": [
    "X = df_4[['surface_covered', 'rooms', 'bedrooms', 'bathrooms', 'casa', 'depto', 'ph']]\n",
    "y = df_4.price"
   ]
  },
  {
   "cell_type": "code",
   "execution_count": 42,
   "metadata": {},
   "outputs": [],
   "source": [
    "from sklearn.model_selection import train_test_split\n",
    "from sklearn import tree"
   ]
  },
  {
   "cell_type": "code",
   "execution_count": 43,
   "metadata": {},
   "outputs": [],
   "source": [
    "X_train, X_test, y_train, y_test = train_test_split(X, y, test_size=0.30, random_state=42)"
   ]
  },
  {
   "cell_type": "markdown",
   "metadata": {},
   "source": [
    "### KNNeighbors - Proyecto 01"
   ]
  },
  {
   "cell_type": "code",
   "execution_count": 44,
   "metadata": {},
   "outputs": [
    {
     "data": {
      "text/plain": [
       "KNeighborsRegressor(algorithm='auto', leaf_size=30, metric='minkowski',\n",
       "                    metric_params=None, n_jobs=None, n_neighbors=8, p=2,\n",
       "                    weights='uniform')"
      ]
     },
     "execution_count": 44,
     "metadata": {},
     "output_type": "execute_result"
    }
   ],
   "source": [
    "from sklearn.neighbors import KNeighborsRegressor\n",
    "k = 8 #Mejor rendimiento en proyecto 01\n",
    "# Creamos el regresor\n",
    "rg_knn = KNeighborsRegressor(algorithm='auto', leaf_size=30, metric='minkowski',\n",
    "                    metric_params=None, n_jobs=None, n_neighbors=k, p=2,\n",
    "                    weights='uniform')\n",
    "# Lo entrenamos\n",
    "rg_knn.fit(X_train, y_train)"
   ]
  },
  {
   "cell_type": "code",
   "execution_count": 45,
   "metadata": {},
   "outputs": [],
   "source": [
    "#Predecimos\n",
    "knn_y_test_pred = rg_knn.predict(X_test)"
   ]
  },
  {
   "cell_type": "code",
   "execution_count": 46,
   "metadata": {},
   "outputs": [
    {
     "data": {
      "text/plain": [
       "88558.56398640425"
      ]
     },
     "execution_count": 46,
     "metadata": {},
     "output_type": "execute_result"
    }
   ],
   "source": [
    "from sklearn.metrics import mean_squared_error\n",
    "knn_mse = mean_squared_error( y_test, knn_y_test_pred )\n",
    "knn_rmse = np.sqrt(knn_mse)\n",
    "knn_rmse"
   ]
  },
  {
   "cell_type": "code",
   "execution_count": 47,
   "metadata": {},
   "outputs": [],
   "source": [
    "#r2\n",
    "from sklearn.metrics import r2_score\n",
    "knn_r2 = r2_score(y_test, knn_y_test_pred)"
   ]
  },
  {
   "cell_type": "code",
   "execution_count": 48,
   "metadata": {},
   "outputs": [],
   "source": [
    "#lista de r2, rmse, modelos y otros datos\n",
    "r2_list = [0,0, knn_r2]\n",
    "rmse_list = [171000, 181000, knn_rmse]\n",
    "models = ['knn', 'dt', 'knn']\n",
    "projects = ['01', '01', '02']"
   ]
  },
  {
   "cell_type": "markdown",
   "metadata": {},
   "source": [
    "### Árbol de decisión - Proyecto 01"
   ]
  },
  {
   "cell_type": "code",
   "execution_count": 49,
   "metadata": {},
   "outputs": [
    {
     "data": {
      "text/plain": [
       "DecisionTreeRegressor(ccp_alpha=0.0, criterion='mse', max_depth=9,\n",
       "                      max_features=None, max_leaf_nodes=None,\n",
       "                      min_impurity_decrease=0.0, min_impurity_split=None,\n",
       "                      min_samples_leaf=1, min_samples_split=2,\n",
       "                      min_weight_fraction_leaf=0.0, presort='deprecated',\n",
       "                      random_state=0, splitter='best')"
      ]
     },
     "execution_count": 49,
     "metadata": {},
     "output_type": "execute_result"
    }
   ],
   "source": [
    "#Importamos librería correspondiente\n",
    "from sklearn import tree\n",
    "#Creamos el modelo de árbol regresor\n",
    "rg_tree = tree.DecisionTreeRegressor(ccp_alpha=0.0, criterion='mse', max_depth=9,\n",
    "                      max_features=None, max_leaf_nodes=None,\n",
    "                      min_impurity_decrease=0.0, min_impurity_split=None,\n",
    "                      min_samples_leaf=1, min_samples_split=2,\n",
    "                      min_weight_fraction_leaf=0.0, presort='deprecated',\n",
    "                      random_state=0, splitter='best')\n",
    "#Entrenamos el árbol regresor\n",
    "rg_tree.fit(X_train, y_train)"
   ]
  },
  {
   "cell_type": "code",
   "execution_count": 50,
   "metadata": {},
   "outputs": [],
   "source": [
    "#Predecimos\n",
    "dt_y_test_pred = rg_tree.predict(X_test)"
   ]
  },
  {
   "cell_type": "code",
   "execution_count": 51,
   "metadata": {},
   "outputs": [
    {
     "data": {
      "text/plain": [
       "89724.47306301666"
      ]
     },
     "execution_count": 51,
     "metadata": {},
     "output_type": "execute_result"
    }
   ],
   "source": [
    "#rmse\n",
    "dt_mse = mean_squared_error(y_test, dt_y_test_pred)\n",
    "dt_rmse = np.sqrt(dt_mse)\n",
    "dt_rmse"
   ]
  },
  {
   "cell_type": "code",
   "execution_count": 52,
   "metadata": {},
   "outputs": [
    {
     "data": {
      "text/plain": [
       "0.7493035860761998"
      ]
     },
     "execution_count": 52,
     "metadata": {},
     "output_type": "execute_result"
    }
   ],
   "source": [
    "#r2\n",
    "dt_r2 = r2_score(y_test, dt_y_test_pred)\n",
    "dt_r2"
   ]
  },
  {
   "cell_type": "code",
   "execution_count": 53,
   "metadata": {},
   "outputs": [],
   "source": [
    "#lista de r2, rmse, modelos y otros datos\n",
    "r2_list.append(dt_r2)\n",
    "rmse_list.append(dt_rmse)\n",
    "models.append('dt')\n",
    "projects.append('02')"
   ]
  },
  {
   "cell_type": "code",
   "execution_count": 54,
   "metadata": {},
   "outputs": [
    {
     "data": {
      "text/html": [
       "<div>\n",
       "<style scoped>\n",
       "    .dataframe tbody tr th:only-of-type {\n",
       "        vertical-align: middle;\n",
       "    }\n",
       "\n",
       "    .dataframe tbody tr th {\n",
       "        vertical-align: top;\n",
       "    }\n",
       "\n",
       "    .dataframe thead th {\n",
       "        text-align: right;\n",
       "    }\n",
       "</style>\n",
       "<table border=\"1\" class=\"dataframe\">\n",
       "  <thead>\n",
       "    <tr style=\"text-align: right;\">\n",
       "      <th></th>\n",
       "      <th>model</th>\n",
       "      <th>rmse</th>\n",
       "      <th>r2</th>\n",
       "      <th>project</th>\n",
       "    </tr>\n",
       "  </thead>\n",
       "  <tbody>\n",
       "    <tr>\n",
       "      <th>0</th>\n",
       "      <td>knn</td>\n",
       "      <td>171000.000000</td>\n",
       "      <td>0.000000</td>\n",
       "      <td>01</td>\n",
       "    </tr>\n",
       "    <tr>\n",
       "      <th>1</th>\n",
       "      <td>dt</td>\n",
       "      <td>181000.000000</td>\n",
       "      <td>0.000000</td>\n",
       "      <td>01</td>\n",
       "    </tr>\n",
       "    <tr>\n",
       "      <th>2</th>\n",
       "      <td>knn</td>\n",
       "      <td>88558.563986</td>\n",
       "      <td>0.755777</td>\n",
       "      <td>02</td>\n",
       "    </tr>\n",
       "    <tr>\n",
       "      <th>3</th>\n",
       "      <td>dt</td>\n",
       "      <td>89724.473063</td>\n",
       "      <td>0.749304</td>\n",
       "      <td>02</td>\n",
       "    </tr>\n",
       "  </tbody>\n",
       "</table>\n",
       "</div>"
      ],
      "text/plain": [
       "  model           rmse        r2 project\n",
       "0   knn  171000.000000  0.000000      01\n",
       "1    dt  181000.000000  0.000000      01\n",
       "2   knn   88558.563986  0.755777      02\n",
       "3    dt   89724.473063  0.749304      02"
      ]
     },
     "execution_count": 54,
     "metadata": {},
     "output_type": "execute_result"
    }
   ],
   "source": [
    "basicModels = pd.DataFrame({'model':models,'rmse': rmse_list, 'r2': r2_list, 'project':projects})\n",
    "basicModels"
   ]
  },
  {
   "cell_type": "code",
   "execution_count": 55,
   "metadata": {},
   "outputs": [
    {
     "data": {
      "text/plain": [
       "Text(0.5, 1.0, 'Rendimiento en RMSE de modelos básicos')"
      ]
     },
     "execution_count": 55,
     "metadata": {},
     "output_type": "execute_result"
    },
    {
     "data": {
      "image/png": "[encoded data removed]",
      "text/plain": [
       "<Figure size 1080x720 with 1 Axes>"
      ]
     },
     "metadata": {},
     "output_type": "display_data"
    }
   ],
   "source": [
    "plt.subplots(figsize=(15,10))\n",
    "sns.barplot(basicModels.model, basicModels.rmse, hue=basicModels.project).set_title('Rendimiento en RMSE de modelos básicos', size=23)"
   ]
  },
  {
   "cell_type": "markdown",
   "metadata": {},
   "source": [
    "<div style=\"background-color:lightgrey; padding: 10px 10px 10px 10px\">\n",
    "    <h3>Comparaciones entre modelos del proyecto 01 y 02</h3>\n",
    "    <hr>\n",
    "    <li>Como puede observarse, hay una diferencia notoria en el rendimiento de los modelos del proyecto 01 a 02</li>\n",
    "    <li>La diferencia se evidencia en el hecho de que un proyecto a otro, los RMSE de cada modelo se ha reducido más de un 50% del primer proyecto a éste. </li>\n",
    "    <li>Las diferencia sólo puede ser explicada por los procesos de pre-preocesamiento que no fueron, justamente, utilizados en el primer proyecto mientras sí lo fueron en este proyecto. </li>\n",
    "    <li>\n",
    "        La detección y eliminación de outliers en las columnas con mayores valores atípicos puede sen parte explicar la mayor exactitud de los segundos modelos, pues han sido construídos desde una base de datos más sólida. \n",
    "    </li>\n",
    "    <li>\n",
    "        De la misma manera, en el proyecto anterior se omitieron todos los registros faltantes que fueron muchísimos. En el marco de este proyecto los valores faltantes han sido imputados por un criterio de vecindad que nos puede asegurar mayor congruencia en los datos faltantes, y en definitiva una mayor base desde la que construir los modelos que aquí construimos \n",
    "    </li>\n",
    "    <li>\n",
    "        Asimismo, hemos utilizado una estrategia de encoding para apropiarnos de un feauture fundamental para la construcción de los modelos: tipo de propiedad. Valor que poseíamos en formato de tipo texto, pero que aprovechamos en nuestros modelos encoding mediante.\n",
    "    </li>\n",
    "    <li>Por último, en términos relativos de porcentaje, vemos que el decrecimiento del RMSE es mucho menor en nuestro modelo de vecinos, lo que puede sugerirnos que el proceso de escalado ha sido efectivo y oportuno.\n",
    "    </li>\n",
    "</div>"
   ]
  },
  {
   "cell_type": "markdown",
   "metadata": {},
   "source": [
    "# PARTE B - Modelos Avanzados\n",
    "<hr>\n",
    "\n",
    "6. Elige dos de los modelos avanzados vistos. Compara con el desempeño obtenido en el proyecto 01 (en el caso de regresión, considera una regresión lineal con atributos polinómicos y regularización). Entrénalos y evalúalos con sus argumentos por defecto. No te olvides de hacer un train/test split y usar Validación Cruzada.\n",
    "7. Optimiza sus hiperparámetros mediante Validación Cruzada y Grid Search o Random Search.\n",
    "\n",
    "8. Compara el desempeño de los nuevos modelos entre sí y con el modelo de la Parte A. ¿Cuál elegirías? Justifica."
   ]
  },
  {
   "cell_type": "markdown",
   "metadata": {},
   "source": [
    "## Bagging\n",
    "<div id=\"modav\"></div>"
   ]
  },
  {
   "cell_type": "code",
   "execution_count": 56,
   "metadata": {},
   "outputs": [],
   "source": [
    "columnas_entrenamiento = ['surface_covered', 'rooms', 'bedrooms', 'bathrooms', 'casa', 'depto', 'ph']\n",
    "X = df_4[columnas_entrenamiento]\n",
    "y = df_4['price']"
   ]
  },
  {
   "cell_type": "code",
   "execution_count": 57,
   "metadata": {},
   "outputs": [],
   "source": [
    "X_train, X_test, y_train, y_test = train_test_split(X, y, test_size=0.30, random_state=42)"
   ]
  },
  {
   "cell_type": "code",
   "execution_count": 58,
   "metadata": {},
   "outputs": [],
   "source": [
    ">>> from sklearn.ensemble import BaggingRegressor"
   ]
  },
  {
   "cell_type": "code",
   "execution_count": 59,
   "metadata": {},
   "outputs": [],
   "source": [
    ">>> regr = BaggingRegressor(n_estimators=100, random_state=42).fit(X_train, y_train)"
   ]
  },
  {
   "cell_type": "code",
   "execution_count": 60,
   "metadata": {},
   "outputs": [],
   "source": [
    "bg_y_test_pred = regr.predict(X_test)\n",
    "bg_y_train_pred = regr.predict(X_train)"
   ]
  },
  {
   "cell_type": "code",
   "execution_count": 61,
   "metadata": {},
   "outputs": [
    {
     "data": {
      "text/plain": [
       "82897.89555848246"
      ]
     },
     "execution_count": 61,
     "metadata": {},
     "output_type": "execute_result"
    }
   ],
   "source": [
    "#rmse\n",
    "bg_mse = mean_squared_error(y_test, bg_y_test_pred)\n",
    "bg_rmse = np.sqrt(bg_mse)\n",
    "bg_rmse"
   ]
  },
  {
   "cell_type": "code",
   "execution_count": 62,
   "metadata": {},
   "outputs": [],
   "source": [
    "# r2\n",
    "bgg_r2 = r2_score(y_test, bg_y_test_pred)"
   ]
  },
  {
   "cell_type": "code",
   "execution_count": 63,
   "metadata": {},
   "outputs": [],
   "source": [
    "#lista de r2, rmse, modelos y otros datos\n",
    "rmse_list.append(bg_rmse)\n",
    "models.append('bgg')\n",
    "projects.append('02')\n",
    "r2_list.append(bgg_r2)"
   ]
  },
  {
   "cell_type": "markdown",
   "metadata": {},
   "source": [
    "### Random Forest"
   ]
  },
  {
   "cell_type": "code",
   "execution_count": 64,
   "metadata": {},
   "outputs": [],
   "source": [
    "from sklearn.ensemble import RandomForestRegressor"
   ]
  },
  {
   "cell_type": "code",
   "execution_count": 95,
   "metadata": {},
   "outputs": [],
   "source": [
    "#creación de modelo y entrenamiento\n",
    "rf_regr = RandomForestRegressor(n_estimators=100, max_features='sqrt', n_jobs=-1, oob_score = True, random_state = 42).fit(X_train, y_train)"
   ]
  },
  {
   "cell_type": "code",
   "execution_count": 96,
   "metadata": {},
   "outputs": [],
   "source": [
    "#predicción\n",
    "rf_y_train_pred = rf_regr.predict(X_train)\n",
    "rf_y_test_pred = rf_regr.predict(X_test)"
   ]
  },
  {
   "cell_type": "code",
   "execution_count": 210,
   "metadata": {},
   "outputs": [
    {
     "data": {
      "text/plain": [
       "82964.76781953742"
      ]
     },
     "execution_count": 210,
     "metadata": {},
     "output_type": "execute_result"
    }
   ],
   "source": [
    "#rmse\n",
    "rf_mse = mean_squared_error(y_test, rf_y_test_pred)\n",
    "rf_rmse = np.sqrt(rf_mse)\n",
    "rf_rmse"
   ]
  },
  {
   "cell_type": "code",
   "execution_count": 98,
   "metadata": {},
   "outputs": [
    {
     "data": {
      "text/plain": [
       "0.7856548342916813"
      ]
     },
     "execution_count": 98,
     "metadata": {},
     "output_type": "execute_result"
    }
   ],
   "source": [
    "#r2\n",
    "rf_r2 = r2_score(y_test, rf_y_test_pred)\n",
    "rf_r2"
   ]
  },
  {
   "cell_type": "code",
   "execution_count": 99,
   "metadata": {},
   "outputs": [],
   "source": [
    "#lista de r2, rmse, modelos y otros datos\n",
    "r2_list.append(rf_r2)\n",
    "rmse_list.append(rf_rmse)\n",
    "models.append('rf')\n",
    "projects.append('02')"
   ]
  },
  {
   "cell_type": "markdown",
   "metadata": {},
   "source": [
    "## Boosting"
   ]
  },
  {
   "cell_type": "code",
   "execution_count": 70,
   "metadata": {},
   "outputs": [],
   "source": [
    "from sklearn.ensemble import AdaBoostRegressor"
   ]
  },
  {
   "cell_type": "code",
   "execution_count": 71,
   "metadata": {},
   "outputs": [],
   "source": [
    "#creación y entrenamiento de modelo\n",
    "adb_regr = AdaBoostRegressor(tree.DecisionTreeRegressor(ccp_alpha=0.0, criterion='mse', max_depth=9, max_features=None, max_leaf_nodes=None, min_impurity_decrease=0.0, min_impurity_split=None, min_samples_leaf=1, min_samples_split=2, min_weight_fraction_leaf=0.0, presort='deprecated', random_state=0, splitter='best'), random_state=42, n_estimators=100).fit(X_train, y_train)"
   ]
  },
  {
   "cell_type": "code",
   "execution_count": 72,
   "metadata": {},
   "outputs": [],
   "source": [
    "#predicción\n",
    "adb_y_test_pred = adb_regr.predict(X_test)"
   ]
  },
  {
   "cell_type": "code",
   "execution_count": 73,
   "metadata": {},
   "outputs": [
    {
     "data": {
      "text/plain": [
       "98269.43959217904"
      ]
     },
     "execution_count": 73,
     "metadata": {},
     "output_type": "execute_result"
    }
   ],
   "source": [
    "#rmse\n",
    "adb_mse = mean_squared_error(y_test, adb_y_test_pred)\n",
    "adb_rmse = np.sqrt(adb_mse)\n",
    "adb_rmse"
   ]
  },
  {
   "cell_type": "code",
   "execution_count": 74,
   "metadata": {},
   "outputs": [
    {
     "data": {
      "text/plain": [
       "0.6992793527399712"
      ]
     },
     "execution_count": 74,
     "metadata": {},
     "output_type": "execute_result"
    }
   ],
   "source": [
    "#r2\n",
    "adb_r2 = r2_score(y_test, adb_y_test_pred)\n",
    "adb_r2"
   ]
  },
  {
   "cell_type": "code",
   "execution_count": 78,
   "metadata": {},
   "outputs": [],
   "source": [
    "#lista de r2, rmse, modelos y otros datos\n",
    "r2_list.append(adb_r2)\n",
    "rmse_list.append(adb_rmse)\n",
    "models.append('adb')\n",
    "projects.append('02')"
   ]
  },
  {
   "cell_type": "markdown",
   "metadata": {},
   "source": [
    "## XGBoost"
   ]
  },
  {
   "cell_type": "code",
   "execution_count": 75,
   "metadata": {},
   "outputs": [],
   "source": [
    "import xgboost as xgb"
   ]
  },
  {
   "cell_type": "code",
   "execution_count": 76,
   "metadata": {
    "collapsed": true,
    "jupyter": {
     "outputs_hidden": true
    }
   },
   "outputs": [
    {
     "name": "stdout",
     "output_type": "stream",
     "text": [
      "[16:07:14] WARNING: src/objective/regression_obj.cu:152: reg:linear is now deprecated in favor of reg:squarederror.\n",
      "[0]\tvalidation_0-error:-233065\tvalidation_1-error:-233746\n",
      "[1]\tvalidation_0-error:-233065\tvalidation_1-error:-233746\n",
      "[2]\tvalidation_0-error:-233065\tvalidation_1-error:-233746\n",
      "[3]\tvalidation_0-error:-233065\tvalidation_1-error:-233746\n",
      "[4]\tvalidation_0-error:-233065\tvalidation_1-error:-233746\n",
      "[5]\tvalidation_0-error:-233065\tvalidation_1-error:-233746\n",
      "[6]\tvalidation_0-error:-233065\tvalidation_1-error:-233746\n",
      "[7]\tvalidation_0-error:-233065\tvalidation_1-error:-233746\n",
      "[8]\tvalidation_0-error:-233065\tvalidation_1-error:-233746\n",
      "[9]\tvalidation_0-error:-233065\tvalidation_1-error:-233746\n",
      "[10]\tvalidation_0-error:-233065\tvalidation_1-error:-233746\n",
      "[11]\tvalidation_0-error:-233065\tvalidation_1-error:-233746\n",
      "[12]\tvalidation_0-error:-233065\tvalidation_1-error:-233746\n",
      "[13]\tvalidation_0-error:-233065\tvalidation_1-error:-233746\n",
      "[14]\tvalidation_0-error:-233065\tvalidation_1-error:-233746\n",
      "[15]\tvalidation_0-error:-233065\tvalidation_1-error:-233746\n",
      "[16]\tvalidation_0-error:-233065\tvalidation_1-error:-233746\n",
      "[17]\tvalidation_0-error:-233065\tvalidation_1-error:-233746\n",
      "[18]\tvalidation_0-error:-233065\tvalidation_1-error:-233746\n",
      "[19]\tvalidation_0-error:-233065\tvalidation_1-error:-233746\n",
      "[20]\tvalidation_0-error:-233065\tvalidation_1-error:-233746\n",
      "[21]\tvalidation_0-error:-233065\tvalidation_1-error:-233746\n",
      "[22]\tvalidation_0-error:-233065\tvalidation_1-error:-233746\n",
      "[23]\tvalidation_0-error:-233065\tvalidation_1-error:-233746\n",
      "[24]\tvalidation_0-error:-233065\tvalidation_1-error:-233746\n",
      "[25]\tvalidation_0-error:-233065\tvalidation_1-error:-233746\n",
      "[26]\tvalidation_0-error:-233065\tvalidation_1-error:-233746\n",
      "[27]\tvalidation_0-error:-233065\tvalidation_1-error:-233746\n",
      "[28]\tvalidation_0-error:-233065\tvalidation_1-error:-233746\n",
      "[29]\tvalidation_0-error:-233065\tvalidation_1-error:-233746\n",
      "[30]\tvalidation_0-error:-233065\tvalidation_1-error:-233746\n",
      "[31]\tvalidation_0-error:-233065\tvalidation_1-error:-233746\n",
      "[32]\tvalidation_0-error:-233065\tvalidation_1-error:-233746\n",
      "[33]\tvalidation_0-error:-233065\tvalidation_1-error:-233746\n",
      "[34]\tvalidation_0-error:-233065\tvalidation_1-error:-233746\n",
      "[35]\tvalidation_0-error:-233065\tvalidation_1-error:-233746\n",
      "[36]\tvalidation_0-error:-233065\tvalidation_1-error:-233746\n",
      "[37]\tvalidation_0-error:-233065\tvalidation_1-error:-233746\n",
      "[38]\tvalidation_0-error:-233065\tvalidation_1-error:-233746\n",
      "[39]\tvalidation_0-error:-233065\tvalidation_1-error:-233746\n",
      "[40]\tvalidation_0-error:-233065\tvalidation_1-error:-233746\n",
      "[41]\tvalidation_0-error:-233065\tvalidation_1-error:-233746\n",
      "[42]\tvalidation_0-error:-233065\tvalidation_1-error:-233746\n",
      "[43]\tvalidation_0-error:-233065\tvalidation_1-error:-233746\n",
      "[44]\tvalidation_0-error:-233065\tvalidation_1-error:-233746\n",
      "[45]\tvalidation_0-error:-233065\tvalidation_1-error:-233746\n",
      "[46]\tvalidation_0-error:-233065\tvalidation_1-error:-233746\n",
      "[47]\tvalidation_0-error:-233065\tvalidation_1-error:-233746\n",
      "[48]\tvalidation_0-error:-233065\tvalidation_1-error:-233746\n",
      "[49]\tvalidation_0-error:-233065\tvalidation_1-error:-233746\n",
      "[50]\tvalidation_0-error:-233065\tvalidation_1-error:-233746\n",
      "[51]\tvalidation_0-error:-233065\tvalidation_1-error:-233746\n",
      "[52]\tvalidation_0-error:-233065\tvalidation_1-error:-233746\n",
      "[53]\tvalidation_0-error:-233065\tvalidation_1-error:-233746\n",
      "[54]\tvalidation_0-error:-233065\tvalidation_1-error:-233746\n",
      "[55]\tvalidation_0-error:-233065\tvalidation_1-error:-233746\n",
      "[56]\tvalidation_0-error:-233065\tvalidation_1-error:-233746\n",
      "[57]\tvalidation_0-error:-233065\tvalidation_1-error:-233746\n",
      "[58]\tvalidation_0-error:-233065\tvalidation_1-error:-233746\n",
      "[59]\tvalidation_0-error:-233065\tvalidation_1-error:-233746\n",
      "[60]\tvalidation_0-error:-233065\tvalidation_1-error:-233746\n",
      "[61]\tvalidation_0-error:-233065\tvalidation_1-error:-233746\n",
      "[62]\tvalidation_0-error:-233065\tvalidation_1-error:-233746\n",
      "[63]\tvalidation_0-error:-233065\tvalidation_1-error:-233746\n",
      "[64]\tvalidation_0-error:-233065\tvalidation_1-error:-233746\n",
      "[65]\tvalidation_0-error:-233065\tvalidation_1-error:-233746\n",
      "[66]\tvalidation_0-error:-233065\tvalidation_1-error:-233746\n",
      "[67]\tvalidation_0-error:-233065\tvalidation_1-error:-233746\n",
      "[68]\tvalidation_0-error:-233065\tvalidation_1-error:-233746\n",
      "[69]\tvalidation_0-error:-233065\tvalidation_1-error:-233746\n",
      "[70]\tvalidation_0-error:-233065\tvalidation_1-error:-233746\n",
      "[71]\tvalidation_0-error:-233065\tvalidation_1-error:-233746\n",
      "[72]\tvalidation_0-error:-233065\tvalidation_1-error:-233746\n",
      "[73]\tvalidation_0-error:-233065\tvalidation_1-error:-233746\n",
      "[74]\tvalidation_0-error:-233065\tvalidation_1-error:-233746\n",
      "[75]\tvalidation_0-error:-233065\tvalidation_1-error:-233746\n",
      "[76]\tvalidation_0-error:-233065\tvalidation_1-error:-233746\n",
      "[77]\tvalidation_0-error:-233065\tvalidation_1-error:-233746\n",
      "[78]\tvalidation_0-error:-233065\tvalidation_1-error:-233746\n",
      "[79]\tvalidation_0-error:-233065\tvalidation_1-error:-233746\n",
      "[80]\tvalidation_0-error:-233065\tvalidation_1-error:-233746\n",
      "[81]\tvalidation_0-error:-233065\tvalidation_1-error:-233746\n",
      "[82]\tvalidation_0-error:-233065\tvalidation_1-error:-233746\n",
      "[83]\tvalidation_0-error:-233065\tvalidation_1-error:-233746\n",
      "[84]\tvalidation_0-error:-233065\tvalidation_1-error:-233746\n",
      "[85]\tvalidation_0-error:-233065\tvalidation_1-error:-233746\n",
      "[86]\tvalidation_0-error:-233065\tvalidation_1-error:-233746\n",
      "[87]\tvalidation_0-error:-233065\tvalidation_1-error:-233746\n",
      "[88]\tvalidation_0-error:-233065\tvalidation_1-error:-233746\n",
      "[89]\tvalidation_0-error:-233065\tvalidation_1-error:-233746\n",
      "[90]\tvalidation_0-error:-233065\tvalidation_1-error:-233746\n",
      "[91]\tvalidation_0-error:-233065\tvalidation_1-error:-233746\n",
      "[92]\tvalidation_0-error:-233065\tvalidation_1-error:-233746\n",
      "[93]\tvalidation_0-error:-233065\tvalidation_1-error:-233746\n",
      "[94]\tvalidation_0-error:-233065\tvalidation_1-error:-233746\n",
      "[95]\tvalidation_0-error:-233065\tvalidation_1-error:-233746\n",
      "[96]\tvalidation_0-error:-233065\tvalidation_1-error:-233746\n",
      "[97]\tvalidation_0-error:-233065\tvalidation_1-error:-233746\n",
      "[98]\tvalidation_0-error:-233065\tvalidation_1-error:-233746\n",
      "[99]\tvalidation_0-error:-233065\tvalidation_1-error:-233746\n",
      "[100]\tvalidation_0-error:-233065\tvalidation_1-error:-233746\n",
      "[101]\tvalidation_0-error:-233065\tvalidation_1-error:-233746\n",
      "[102]\tvalidation_0-error:-233065\tvalidation_1-error:-233746\n",
      "[103]\tvalidation_0-error:-233065\tvalidation_1-error:-233746\n",
      "[104]\tvalidation_0-error:-233065\tvalidation_1-error:-233746\n",
      "[105]\tvalidation_0-error:-233065\tvalidation_1-error:-233746\n",
      "[106]\tvalidation_0-error:-233065\tvalidation_1-error:-233746\n",
      "[107]\tvalidation_0-error:-233065\tvalidation_1-error:-233746\n",
      "[108]\tvalidation_0-error:-233065\tvalidation_1-error:-233746\n",
      "[109]\tvalidation_0-error:-233065\tvalidation_1-error:-233746\n",
      "[110]\tvalidation_0-error:-233065\tvalidation_1-error:-233746\n",
      "[111]\tvalidation_0-error:-233065\tvalidation_1-error:-233746\n",
      "[112]\tvalidation_0-error:-233065\tvalidation_1-error:-233746\n",
      "[113]\tvalidation_0-error:-233065\tvalidation_1-error:-233746\n",
      "[114]\tvalidation_0-error:-233065\tvalidation_1-error:-233746\n",
      "[115]\tvalidation_0-error:-233065\tvalidation_1-error:-233746\n",
      "[116]\tvalidation_0-error:-233065\tvalidation_1-error:-233746\n",
      "[117]\tvalidation_0-error:-233065\tvalidation_1-error:-233746\n",
      "[118]\tvalidation_0-error:-233065\tvalidation_1-error:-233746\n",
      "[119]\tvalidation_0-error:-233065\tvalidation_1-error:-233746\n",
      "[120]\tvalidation_0-error:-233065\tvalidation_1-error:-233746\n",
      "[121]\tvalidation_0-error:-233065\tvalidation_1-error:-233746\n",
      "[122]\tvalidation_0-error:-233065\tvalidation_1-error:-233746\n",
      "[123]\tvalidation_0-error:-233065\tvalidation_1-error:-233746\n",
      "[124]\tvalidation_0-error:-233065\tvalidation_1-error:-233746\n",
      "[125]\tvalidation_0-error:-233065\tvalidation_1-error:-233746\n",
      "[126]\tvalidation_0-error:-233065\tvalidation_1-error:-233746\n",
      "[127]\tvalidation_0-error:-233065\tvalidation_1-error:-233746\n",
      "[128]\tvalidation_0-error:-233065\tvalidation_1-error:-233746\n",
      "[129]\tvalidation_0-error:-233065\tvalidation_1-error:-233746\n",
      "[130]\tvalidation_0-error:-233065\tvalidation_1-error:-233746\n",
      "[131]\tvalidation_0-error:-233065\tvalidation_1-error:-233746\n",
      "[132]\tvalidation_0-error:-233065\tvalidation_1-error:-233746\n",
      "[133]\tvalidation_0-error:-233065\tvalidation_1-error:-233746\n",
      "[134]\tvalidation_0-error:-233065\tvalidation_1-error:-233746\n",
      "[135]\tvalidation_0-error:-233065\tvalidation_1-error:-233746\n",
      "[136]\tvalidation_0-error:-233065\tvalidation_1-error:-233746\n",
      "[137]\tvalidation_0-error:-233065\tvalidation_1-error:-233746\n",
      "[138]\tvalidation_0-error:-233065\tvalidation_1-error:-233746\n",
      "[139]\tvalidation_0-error:-233065\tvalidation_1-error:-233746\n",
      "[140]\tvalidation_0-error:-233065\tvalidation_1-error:-233746\n",
      "[141]\tvalidation_0-error:-233065\tvalidation_1-error:-233746\n",
      "[142]\tvalidation_0-error:-233065\tvalidation_1-error:-233746\n",
      "[143]\tvalidation_0-error:-233065\tvalidation_1-error:-233746\n",
      "[144]\tvalidation_0-error:-233065\tvalidation_1-error:-233746\n",
      "[145]\tvalidation_0-error:-233065\tvalidation_1-error:-233746\n",
      "[146]\tvalidation_0-error:-233065\tvalidation_1-error:-233746\n",
      "[147]\tvalidation_0-error:-233065\tvalidation_1-error:-233746\n",
      "[148]\tvalidation_0-error:-233065\tvalidation_1-error:-233746\n",
      "[149]\tvalidation_0-error:-233065\tvalidation_1-error:-233746\n",
      "[150]\tvalidation_0-error:-233065\tvalidation_1-error:-233746\n",
      "[151]\tvalidation_0-error:-233065\tvalidation_1-error:-233746\n",
      "[152]\tvalidation_0-error:-233065\tvalidation_1-error:-233746\n",
      "[153]\tvalidation_0-error:-233065\tvalidation_1-error:-233746\n",
      "[154]\tvalidation_0-error:-233065\tvalidation_1-error:-233746\n",
      "[155]\tvalidation_0-error:-233065\tvalidation_1-error:-233746\n",
      "[156]\tvalidation_0-error:-233065\tvalidation_1-error:-233746\n",
      "[157]\tvalidation_0-error:-233065\tvalidation_1-error:-233746\n",
      "[158]\tvalidation_0-error:-233065\tvalidation_1-error:-233746\n",
      "[159]\tvalidation_0-error:-233065\tvalidation_1-error:-233746\n",
      "[160]\tvalidation_0-error:-233065\tvalidation_1-error:-233746\n",
      "[161]\tvalidation_0-error:-233065\tvalidation_1-error:-233746\n",
      "[162]\tvalidation_0-error:-233065\tvalidation_1-error:-233746\n",
      "[163]\tvalidation_0-error:-233065\tvalidation_1-error:-233746\n",
      "[164]\tvalidation_0-error:-233065\tvalidation_1-error:-233746\n",
      "[165]\tvalidation_0-error:-233065\tvalidation_1-error:-233746\n",
      "[166]\tvalidation_0-error:-233065\tvalidation_1-error:-233746\n",
      "[167]\tvalidation_0-error:-233065\tvalidation_1-error:-233746\n",
      "[168]\tvalidation_0-error:-233065\tvalidation_1-error:-233746\n",
      "[169]\tvalidation_0-error:-233065\tvalidation_1-error:-233746\n",
      "[170]\tvalidation_0-error:-233065\tvalidation_1-error:-233746\n",
      "[171]\tvalidation_0-error:-233065\tvalidation_1-error:-233746\n",
      "[172]\tvalidation_0-error:-233065\tvalidation_1-error:-233746\n",
      "[173]\tvalidation_0-error:-233065\tvalidation_1-error:-233746\n",
      "[174]\tvalidation_0-error:-233065\tvalidation_1-error:-233746\n",
      "[175]\tvalidation_0-error:-233065\tvalidation_1-error:-233746\n",
      "[176]\tvalidation_0-error:-233065\tvalidation_1-error:-233746\n",
      "[177]\tvalidation_0-error:-233065\tvalidation_1-error:-233746\n",
      "[178]\tvalidation_0-error:-233065\tvalidation_1-error:-233746\n",
      "[179]\tvalidation_0-error:-233065\tvalidation_1-error:-233746\n",
      "[180]\tvalidation_0-error:-233065\tvalidation_1-error:-233746\n",
      "[181]\tvalidation_0-error:-233065\tvalidation_1-error:-233746\n",
      "[182]\tvalidation_0-error:-233065\tvalidation_1-error:-233746\n",
      "[183]\tvalidation_0-error:-233065\tvalidation_1-error:-233746\n",
      "[184]\tvalidation_0-error:-233065\tvalidation_1-error:-233746\n",
      "[185]\tvalidation_0-error:-233065\tvalidation_1-error:-233746\n",
      "[186]\tvalidation_0-error:-233065\tvalidation_1-error:-233746\n",
      "[187]\tvalidation_0-error:-233065\tvalidation_1-error:-233746\n",
      "[188]\tvalidation_0-error:-233065\tvalidation_1-error:-233746\n",
      "[189]\tvalidation_0-error:-233065\tvalidation_1-error:-233746\n",
      "[190]\tvalidation_0-error:-233065\tvalidation_1-error:-233746\n",
      "[191]\tvalidation_0-error:-233065\tvalidation_1-error:-233746\n",
      "[192]\tvalidation_0-error:-233065\tvalidation_1-error:-233746\n",
      "[193]\tvalidation_0-error:-233065\tvalidation_1-error:-233746\n",
      "[194]\tvalidation_0-error:-233065\tvalidation_1-error:-233746\n",
      "[195]\tvalidation_0-error:-233065\tvalidation_1-error:-233746\n",
      "[196]\tvalidation_0-error:-233065\tvalidation_1-error:-233746\n",
      "[197]\tvalidation_0-error:-233065\tvalidation_1-error:-233746\n",
      "[198]\tvalidation_0-error:-233065\tvalidation_1-error:-233746\n",
      "[199]\tvalidation_0-error:-233065\tvalidation_1-error:-233746\n",
      "[200]\tvalidation_0-error:-233065\tvalidation_1-error:-233746\n",
      "[201]\tvalidation_0-error:-233065\tvalidation_1-error:-233746\n",
      "[202]\tvalidation_0-error:-233065\tvalidation_1-error:-233746\n",
      "[203]\tvalidation_0-error:-233065\tvalidation_1-error:-233746\n",
      "[204]\tvalidation_0-error:-233065\tvalidation_1-error:-233746\n",
      "[205]\tvalidation_0-error:-233065\tvalidation_1-error:-233746\n",
      "[206]\tvalidation_0-error:-233065\tvalidation_1-error:-233746\n",
      "[207]\tvalidation_0-error:-233065\tvalidation_1-error:-233746\n",
      "[208]\tvalidation_0-error:-233065\tvalidation_1-error:-233746\n",
      "[209]\tvalidation_0-error:-233065\tvalidation_1-error:-233746\n",
      "[210]\tvalidation_0-error:-233065\tvalidation_1-error:-233746\n",
      "[211]\tvalidation_0-error:-233065\tvalidation_1-error:-233746\n",
      "[212]\tvalidation_0-error:-233065\tvalidation_1-error:-233746\n",
      "[213]\tvalidation_0-error:-233065\tvalidation_1-error:-233746\n",
      "[214]\tvalidation_0-error:-233065\tvalidation_1-error:-233746\n",
      "[215]\tvalidation_0-error:-233065\tvalidation_1-error:-233746\n",
      "[216]\tvalidation_0-error:-233065\tvalidation_1-error:-233746\n",
      "[217]\tvalidation_0-error:-233065\tvalidation_1-error:-233746\n",
      "[218]\tvalidation_0-error:-233065\tvalidation_1-error:-233746\n",
      "[219]\tvalidation_0-error:-233065\tvalidation_1-error:-233746\n",
      "[220]\tvalidation_0-error:-233065\tvalidation_1-error:-233746\n",
      "[221]\tvalidation_0-error:-233065\tvalidation_1-error:-233746\n",
      "[222]\tvalidation_0-error:-233065\tvalidation_1-error:-233746\n",
      "[223]\tvalidation_0-error:-233065\tvalidation_1-error:-233746\n",
      "[224]\tvalidation_0-error:-233065\tvalidation_1-error:-233746\n",
      "[225]\tvalidation_0-error:-233065\tvalidation_1-error:-233746\n",
      "[226]\tvalidation_0-error:-233065\tvalidation_1-error:-233746\n",
      "[227]\tvalidation_0-error:-233065\tvalidation_1-error:-233746\n",
      "[228]\tvalidation_0-error:-233065\tvalidation_1-error:-233746\n",
      "[229]\tvalidation_0-error:-233065\tvalidation_1-error:-233746\n",
      "[230]\tvalidation_0-error:-233065\tvalidation_1-error:-233746\n",
      "[231]\tvalidation_0-error:-233065\tvalidation_1-error:-233746\n",
      "[232]\tvalidation_0-error:-233065\tvalidation_1-error:-233746\n",
      "[233]\tvalidation_0-error:-233065\tvalidation_1-error:-233746\n",
      "[234]\tvalidation_0-error:-233065\tvalidation_1-error:-233746\n",
      "[235]\tvalidation_0-error:-233065\tvalidation_1-error:-233746\n",
      "[236]\tvalidation_0-error:-233065\tvalidation_1-error:-233746\n",
      "[237]\tvalidation_0-error:-233065\tvalidation_1-error:-233746\n",
      "[238]\tvalidation_0-error:-233065\tvalidation_1-error:-233746\n",
      "[239]\tvalidation_0-error:-233065\tvalidation_1-error:-233746\n",
      "[240]\tvalidation_0-error:-233065\tvalidation_1-error:-233746\n",
      "[241]\tvalidation_0-error:-233065\tvalidation_1-error:-233746\n",
      "[242]\tvalidation_0-error:-233065\tvalidation_1-error:-233746\n",
      "[243]\tvalidation_0-error:-233065\tvalidation_1-error:-233746\n",
      "[244]\tvalidation_0-error:-233065\tvalidation_1-error:-233746\n",
      "[245]\tvalidation_0-error:-233065\tvalidation_1-error:-233746\n",
      "[246]\tvalidation_0-error:-233065\tvalidation_1-error:-233746\n",
      "[247]\tvalidation_0-error:-233065\tvalidation_1-error:-233746\n",
      "[248]\tvalidation_0-error:-233065\tvalidation_1-error:-233746\n",
      "[249]\tvalidation_0-error:-233065\tvalidation_1-error:-233746\n"
     ]
    },
    {
     "data": {
      "text/plain": [
       "XGBRegressor(base_score=0.5, booster='gbtree', colsample_bylevel=1,\n",
       "             colsample_bynode=1, colsample_bytree=1, gamma=0,\n",
       "             importance_type='gain', learning_rate=0.1, max_delta_step=0,\n",
       "             max_depth=9, min_child_weight=1, missing=None, n_estimators=250,\n",
       "             n_jobs=1, nthread=None, objective='reg:linear', random_state=0,\n",
       "             reg_alpha=0, reg_lambda=1, scale_pos_weight=1, seed=None,\n",
       "             silent=None, subsample=1, verbosity=1)"
      ]
     },
     "execution_count": 76,
     "metadata": {},
     "output_type": "execute_result"
    }
   ],
   "source": [
    "# Creación y entrenamiento de modelo\n",
    "xgb_regr = xgb.XGBRegressor(n_estimators=250, max_depth=9)\n",
    "xgb_regr.fit(X_train, y_train, eval_set=[(X_train, y_train), (X_test, y_test)],\n",
    "        eval_metric=['error'])"
   ]
  },
  {
   "cell_type": "code",
   "execution_count": 77,
   "metadata": {},
   "outputs": [],
   "source": [
    "# Predicción\n",
    "xgb_y_pred_test = xgb_regr.predict(X_test)"
   ]
  },
  {
   "cell_type": "code",
   "execution_count": 79,
   "metadata": {},
   "outputs": [
    {
     "data": {
      "text/plain": [
       "82004.1431271227"
      ]
     },
     "execution_count": 79,
     "metadata": {},
     "output_type": "execute_result"
    }
   ],
   "source": [
    "# rmse\n",
    "xgb_mse = mean_squared_error(y_test, xgb_y_pred_test)\n",
    "xgb_rmse = np.sqrt(xgb_mse)\n",
    "xgb_rmse"
   ]
  },
  {
   "cell_type": "code",
   "execution_count": 80,
   "metadata": {},
   "outputs": [
    {
     "data": {
      "text/plain": [
       "0.7905897773038695"
      ]
     },
     "execution_count": 80,
     "metadata": {},
     "output_type": "execute_result"
    }
   ],
   "source": [
    "#r2\n",
    "xgb_r2 = r2_score(y_test, xgb_y_pred_test)\n",
    "xgb_r2"
   ]
  },
  {
   "cell_type": "code",
   "execution_count": 81,
   "metadata": {},
   "outputs": [],
   "source": [
    "#lista de r2, rmse, modelos y otros datos\n",
    "r2_list.append(xgb_r2)\n",
    "rmse_list.append(xgb_rmse)\n",
    "models.append('xgb')\n",
    "projects.append('02')"
   ]
  },
  {
   "cell_type": "markdown",
   "metadata": {
    "jupyter": {
     "source_hidden": true
    }
   },
   "source": [
    "<div style=\"background-color:bisque; padding: 10px 10px 10px 10px\">\n",
    "    <h4>Rendimiento de modelos</h4>\n",
    "    <h5>Modelos Básicos</h5>\n",
    "    <li><u>RMSE KNN Proyecto 01</u>: 171696</li>\n",
    "    <li><u>RMSE DT Proyecto 01</u>: 164100</li>\n",
    "    <li><u>RMSE KNN Proyecto 02</u>: 78129</li>\n",
    "    <li><u>RMSE DT Proyecto 02</u>: 78667</li>\n",
    "        <h5>Modelos Avanzados</h5>\n",
    "        <li><u>Bagging Proyecto 02</u>: 73130</li>\n",
    "    <li><u>RMSE RandomForest Proyecto 02</u>: 73128</li>\n",
    "    <li><u>RMSE AdaBoosting</u>: 81121</li>\n",
    "    <li><strong>RMSE XGBoosting:</strong> 81121</li>\n",
    "    <hr>\n",
    "    <li><strong>Diferencia de + 100% </strong></li>\n",
    "</div>"
   ]
  },
  {
   "cell_type": "markdown",
   "metadata": {},
   "source": [
    "### Optimización de parámetros\n",
    "<div id=\"optparam\"></div>"
   ]
  },
  {
   "cell_type": "markdown",
   "metadata": {},
   "source": [
    "### RandomGridSearch + DecisionTree\n",
    "<div id=\"RGS\"></div>"
   ]
  },
  {
   "cell_type": "code",
   "execution_count": 302,
   "metadata": {},
   "outputs": [],
   "source": [
    "# Grilla para Random Search\n",
    "from scipy.stats import randint\n",
    "param_dist = {\"max_depth\": [3, None],\n",
    "              \"max_features\": randint(1, 7),\n",
    "              \"min_samples_leaf\": randint(1, 9),\n",
    "              \"criterion\": [\"mse\", \"friedman_mse\", \"mae\"]}"
   ]
  },
  {
   "cell_type": "code",
   "execution_count": 300,
   "metadata": {},
   "outputs": [],
   "source": [
    "rgs_tree = tree.DecisionTreeRegressor()"
   ]
  },
  {
   "cell_type": "code",
   "execution_count": 303,
   "metadata": {},
   "outputs": [],
   "source": [
    "# Creación de modelo basado en RanndomGridSearch y entrenamiento\n",
    "from sklearn.model_selection import RandomizedSearchCV\n",
    "rgs_tree_model = RandomizedSearchCV(rgs_tree, param_dist, n_iter=100, random_state=0, cv=5).fit(X_train, y_train)"
   ]
  },
  {
   "cell_type": "code",
   "execution_count": 304,
   "metadata": {},
   "outputs": [
    {
     "name": "stdout",
     "output_type": "stream",
     "text": [
      "Mejores parametros: {'criterion': 'friedman_mse', 'max_depth': None, 'max_features': 6, 'min_samples_leaf': 3}\n",
      "Mejor Score: 0.7509373091597874\n",
      "\n"
     ]
    }
   ],
   "source": [
    "# Impresión de mejores parámetros\n",
    "print(\"Mejores parametros: \"+str(rgs_tree_model.best_params_))\n",
    "print(\"Mejor Score: \"+str(rgs_tree_model.best_score_)+'\\n')"
   ]
  },
  {
   "cell_type": "code",
   "execution_count": 307,
   "metadata": {
    "collapsed": true,
    "jupyter": {
     "outputs_hidden": true
    }
   },
   "outputs": [
    {
     "data": {
      "text/html": [
       "<div>\n",
       "<style scoped>\n",
       "    .dataframe tbody tr th:only-of-type {\n",
       "        vertical-align: middle;\n",
       "    }\n",
       "\n",
       "    .dataframe tbody tr th {\n",
       "        vertical-align: top;\n",
       "    }\n",
       "\n",
       "    .dataframe thead th {\n",
       "        text-align: right;\n",
       "    }\n",
       "</style>\n",
       "<table border=\"1\" class=\"dataframe\">\n",
       "  <thead>\n",
       "    <tr style=\"text-align: right;\">\n",
       "      <th></th>\n",
       "      <th>mean_fit_time</th>\n",
       "      <th>std_fit_time</th>\n",
       "      <th>mean_score_time</th>\n",
       "      <th>std_score_time</th>\n",
       "      <th>param_criterion</th>\n",
       "      <th>param_max_depth</th>\n",
       "      <th>param_max_features</th>\n",
       "      <th>param_min_samples_leaf</th>\n",
       "      <th>params</th>\n",
       "      <th>split0_test_score</th>\n",
       "      <th>split1_test_score</th>\n",
       "      <th>split2_test_score</th>\n",
       "      <th>split3_test_score</th>\n",
       "      <th>split4_test_score</th>\n",
       "      <th>mean_test_score</th>\n",
       "      <th>std_test_score</th>\n",
       "      <th>rank_test_score</th>\n",
       "    </tr>\n",
       "  </thead>\n",
       "  <tbody>\n",
       "    <tr>\n",
       "      <th>0</th>\n",
       "      <td>0.052736</td>\n",
       "      <td>0.009332</td>\n",
       "      <td>0.004188</td>\n",
       "      <td>9.772239e-04</td>\n",
       "      <td>mse</td>\n",
       "      <td>None</td>\n",
       "      <td>6</td>\n",
       "      <td>1</td>\n",
       "      <td>{'criterion': 'mse', 'max_depth': None, 'max_f...</td>\n",
       "      <td>0.737539</td>\n",
       "      <td>0.746700</td>\n",
       "      <td>0.740716</td>\n",
       "      <td>0.740076</td>\n",
       "      <td>0.752974</td>\n",
       "      <td>0.743601</td>\n",
       "      <td>0.005567</td>\n",
       "      <td>20</td>\n",
       "    </tr>\n",
       "    <tr>\n",
       "      <th>1</th>\n",
       "      <td>0.040654</td>\n",
       "      <td>0.001547</td>\n",
       "      <td>0.003510</td>\n",
       "      <td>7.726244e-04</td>\n",
       "      <td>friedman_mse</td>\n",
       "      <td>None</td>\n",
       "      <td>6</td>\n",
       "      <td>3</td>\n",
       "      <td>{'criterion': 'friedman_mse', 'max_depth': Non...</td>\n",
       "      <td>0.750199</td>\n",
       "      <td>0.753115</td>\n",
       "      <td>0.750025</td>\n",
       "      <td>0.753485</td>\n",
       "      <td>0.747862</td>\n",
       "      <td>0.750937</td>\n",
       "      <td>0.002101</td>\n",
       "      <td>1</td>\n",
       "    </tr>\n",
       "    <tr>\n",
       "      <th>2</th>\n",
       "      <td>0.025131</td>\n",
       "      <td>0.000746</td>\n",
       "      <td>0.002992</td>\n",
       "      <td>1.507891e-07</td>\n",
       "      <td>mse</td>\n",
       "      <td>None</td>\n",
       "      <td>1</td>\n",
       "      <td>1</td>\n",
       "      <td>{'criterion': 'mse', 'max_depth': None, 'max_f...</td>\n",
       "      <td>0.745334</td>\n",
       "      <td>0.746774</td>\n",
       "      <td>0.739761</td>\n",
       "      <td>0.744610</td>\n",
       "      <td>0.751266</td>\n",
       "      <td>0.745549</td>\n",
       "      <td>0.003705</td>\n",
       "      <td>14</td>\n",
       "    </tr>\n",
       "    <tr>\n",
       "      <th>3</th>\n",
       "      <td>0.010969</td>\n",
       "      <td>0.000630</td>\n",
       "      <td>0.002000</td>\n",
       "      <td>6.322045e-04</td>\n",
       "      <td>mse</td>\n",
       "      <td>3</td>\n",
       "      <td>2</td>\n",
       "      <td>7</td>\n",
       "      <td>{'criterion': 'mse', 'max_depth': 3, 'max_feat...</td>\n",
       "      <td>0.580448</td>\n",
       "      <td>0.574036</td>\n",
       "      <td>0.496671</td>\n",
       "      <td>0.557074</td>\n",
       "      <td>0.562684</td>\n",
       "      <td>0.554183</td>\n",
       "      <td>0.029908</td>\n",
       "      <td>75</td>\n",
       "    </tr>\n",
       "    <tr>\n",
       "      <th>4</th>\n",
       "      <td>8.255444</td>\n",
       "      <td>0.459293</td>\n",
       "      <td>0.002195</td>\n",
       "      <td>3.978253e-04</td>\n",
       "      <td>mae</td>\n",
       "      <td>3</td>\n",
       "      <td>2</td>\n",
       "      <td>6</td>\n",
       "      <td>{'criterion': 'mae', 'max_depth': 3, 'max_feat...</td>\n",
       "      <td>0.569021</td>\n",
       "      <td>0.475010</td>\n",
       "      <td>0.409139</td>\n",
       "      <td>0.539265</td>\n",
       "      <td>0.553438</td>\n",
       "      <td>0.509174</td>\n",
       "      <td>0.059364</td>\n",
       "      <td>87</td>\n",
       "    </tr>\n",
       "    <tr>\n",
       "      <th>...</th>\n",
       "      <td>...</td>\n",
       "      <td>...</td>\n",
       "      <td>...</td>\n",
       "      <td>...</td>\n",
       "      <td>...</td>\n",
       "      <td>...</td>\n",
       "      <td>...</td>\n",
       "      <td>...</td>\n",
       "      <td>...</td>\n",
       "      <td>...</td>\n",
       "      <td>...</td>\n",
       "      <td>...</td>\n",
       "      <td>...</td>\n",
       "      <td>...</td>\n",
       "      <td>...</td>\n",
       "      <td>...</td>\n",
       "      <td>...</td>\n",
       "    </tr>\n",
       "    <tr>\n",
       "      <th>95</th>\n",
       "      <td>0.029920</td>\n",
       "      <td>0.001410</td>\n",
       "      <td>0.002992</td>\n",
       "      <td>1.784161e-07</td>\n",
       "      <td>mse</td>\n",
       "      <td>None</td>\n",
       "      <td>5</td>\n",
       "      <td>5</td>\n",
       "      <td>{'criterion': 'mse', 'max_depth': None, 'max_f...</td>\n",
       "      <td>0.745511</td>\n",
       "      <td>0.749203</td>\n",
       "      <td>0.745246</td>\n",
       "      <td>0.750849</td>\n",
       "      <td>0.742165</td>\n",
       "      <td>0.746595</td>\n",
       "      <td>0.003083</td>\n",
       "      <td>12</td>\n",
       "    </tr>\n",
       "    <tr>\n",
       "      <th>96</th>\n",
       "      <td>0.010970</td>\n",
       "      <td>0.000631</td>\n",
       "      <td>0.001796</td>\n",
       "      <td>3.987792e-04</td>\n",
       "      <td>friedman_mse</td>\n",
       "      <td>3</td>\n",
       "      <td>3</td>\n",
       "      <td>7</td>\n",
       "      <td>{'criterion': 'friedman_mse', 'max_depth': 3, ...</td>\n",
       "      <td>0.575320</td>\n",
       "      <td>0.603224</td>\n",
       "      <td>0.577253</td>\n",
       "      <td>0.490557</td>\n",
       "      <td>0.579946</td>\n",
       "      <td>0.565260</td>\n",
       "      <td>0.038685</td>\n",
       "      <td>72</td>\n",
       "    </tr>\n",
       "    <tr>\n",
       "      <th>97</th>\n",
       "      <td>12.800010</td>\n",
       "      <td>0.543983</td>\n",
       "      <td>0.001796</td>\n",
       "      <td>3.986607e-04</td>\n",
       "      <td>mae</td>\n",
       "      <td>3</td>\n",
       "      <td>5</td>\n",
       "      <td>3</td>\n",
       "      <td>{'criterion': 'mae', 'max_depth': 3, 'max_feat...</td>\n",
       "      <td>0.541989</td>\n",
       "      <td>0.591821</td>\n",
       "      <td>0.597984</td>\n",
       "      <td>0.597676</td>\n",
       "      <td>0.588734</td>\n",
       "      <td>0.583641</td>\n",
       "      <td>0.021121</td>\n",
       "      <td>68</td>\n",
       "    </tr>\n",
       "    <tr>\n",
       "      <th>98</th>\n",
       "      <td>0.012167</td>\n",
       "      <td>0.000399</td>\n",
       "      <td>0.001596</td>\n",
       "      <td>4.884025e-04</td>\n",
       "      <td>mse</td>\n",
       "      <td>3</td>\n",
       "      <td>4</td>\n",
       "      <td>3</td>\n",
       "      <td>{'criterion': 'mse', 'max_depth': 3, 'max_feat...</td>\n",
       "      <td>0.607791</td>\n",
       "      <td>0.601071</td>\n",
       "      <td>0.585904</td>\n",
       "      <td>0.592128</td>\n",
       "      <td>0.582185</td>\n",
       "      <td>0.593816</td>\n",
       "      <td>0.009473</td>\n",
       "      <td>65</td>\n",
       "    </tr>\n",
       "    <tr>\n",
       "      <th>99</th>\n",
       "      <td>0.034906</td>\n",
       "      <td>0.000631</td>\n",
       "      <td>0.002394</td>\n",
       "      <td>4.887335e-04</td>\n",
       "      <td>mse</td>\n",
       "      <td>None</td>\n",
       "      <td>6</td>\n",
       "      <td>6</td>\n",
       "      <td>{'criterion': 'mse', 'max_depth': None, 'max_f...</td>\n",
       "      <td>0.750436</td>\n",
       "      <td>0.749880</td>\n",
       "      <td>0.745898</td>\n",
       "      <td>0.748099</td>\n",
       "      <td>0.747538</td>\n",
       "      <td>0.748370</td>\n",
       "      <td>0.001639</td>\n",
       "      <td>7</td>\n",
       "    </tr>\n",
       "  </tbody>\n",
       "</table>\n",
       "<p>100 rows × 17 columns</p>\n",
       "</div>"
      ],
      "text/plain": [
       "    mean_fit_time  std_fit_time  mean_score_time  std_score_time  \\\n",
       "0        0.052736      0.009332         0.004188    9.772239e-04   \n",
       "1        0.040654      0.001547         0.003510    7.726244e-04   \n",
       "2        0.025131      0.000746         0.002992    1.507891e-07   \n",
       "3        0.010969      0.000630         0.002000    6.322045e-04   \n",
       "4        8.255444      0.459293         0.002195    3.978253e-04   \n",
       "..            ...           ...              ...             ...   \n",
       "95       0.029920      0.001410         0.002992    1.784161e-07   \n",
       "96       0.010970      0.000631         0.001796    3.987792e-04   \n",
       "97      12.800010      0.543983         0.001796    3.986607e-04   \n",
       "98       0.012167      0.000399         0.001596    4.884025e-04   \n",
       "99       0.034906      0.000631         0.002394    4.887335e-04   \n",
       "\n",
       "   param_criterion param_max_depth param_max_features param_min_samples_leaf  \\\n",
       "0              mse            None                  6                      1   \n",
       "1     friedman_mse            None                  6                      3   \n",
       "2              mse            None                  1                      1   \n",
       "3              mse               3                  2                      7   \n",
       "4              mae               3                  2                      6   \n",
       "..             ...             ...                ...                    ...   \n",
       "95             mse            None                  5                      5   \n",
       "96    friedman_mse               3                  3                      7   \n",
       "97             mae               3                  5                      3   \n",
       "98             mse               3                  4                      3   \n",
       "99             mse            None                  6                      6   \n",
       "\n",
       "                                               params  split0_test_score  \\\n",
       "0   {'criterion': 'mse', 'max_depth': None, 'max_f...           0.737539   \n",
       "1   {'criterion': 'friedman_mse', 'max_depth': Non...           0.750199   \n",
       "2   {'criterion': 'mse', 'max_depth': None, 'max_f...           0.745334   \n",
       "3   {'criterion': 'mse', 'max_depth': 3, 'max_feat...           0.580448   \n",
       "4   {'criterion': 'mae', 'max_depth': 3, 'max_feat...           0.569021   \n",
       "..                                                ...                ...   \n",
       "95  {'criterion': 'mse', 'max_depth': None, 'max_f...           0.745511   \n",
       "96  {'criterion': 'friedman_mse', 'max_depth': 3, ...           0.575320   \n",
       "97  {'criterion': 'mae', 'max_depth': 3, 'max_feat...           0.541989   \n",
       "98  {'criterion': 'mse', 'max_depth': 3, 'max_feat...           0.607791   \n",
       "99  {'criterion': 'mse', 'max_depth': None, 'max_f...           0.750436   \n",
       "\n",
       "    split1_test_score  split2_test_score  split3_test_score  \\\n",
       "0            0.746700           0.740716           0.740076   \n",
       "1            0.753115           0.750025           0.753485   \n",
       "2            0.746774           0.739761           0.744610   \n",
       "3            0.574036           0.496671           0.557074   \n",
       "4            0.475010           0.409139           0.539265   \n",
       "..                ...                ...                ...   \n",
       "95           0.749203           0.745246           0.750849   \n",
       "96           0.603224           0.577253           0.490557   \n",
       "97           0.591821           0.597984           0.597676   \n",
       "98           0.601071           0.585904           0.592128   \n",
       "99           0.749880           0.745898           0.748099   \n",
       "\n",
       "    split4_test_score  mean_test_score  std_test_score  rank_test_score  \n",
       "0            0.752974         0.743601        0.005567               20  \n",
       "1            0.747862         0.750937        0.002101                1  \n",
       "2            0.751266         0.745549        0.003705               14  \n",
       "3            0.562684         0.554183        0.029908               75  \n",
       "4            0.553438         0.509174        0.059364               87  \n",
       "..                ...              ...             ...              ...  \n",
       "95           0.742165         0.746595        0.003083               12  \n",
       "96           0.579946         0.565260        0.038685               72  \n",
       "97           0.588734         0.583641        0.021121               68  \n",
       "98           0.582185         0.593816        0.009473               65  \n",
       "99           0.747538         0.748370        0.001639                7  \n",
       "\n",
       "[100 rows x 17 columns]"
      ]
     },
     "execution_count": 307,
     "metadata": {},
     "output_type": "execute_result"
    }
   ],
   "source": [
    "# Resultados\n",
    "scores = pd.DataFrame(rgs_tree_model.cv_results_)\n",
    "scores"
   ]
  },
  {
   "cell_type": "code",
   "execution_count": 88,
   "metadata": {},
   "outputs": [],
   "source": [
    "# Entrenamiento de árbol con los criterios del mejor parámetro enconrado y entrenamiento\n",
    "rgs_tree = tree.DecisionTreeRegressor(criterion='friedman_mse', max_depth = None, max_features= 6, min_samples_leaf=3).fit(X_train, y_train)"
   ]
  },
  {
   "cell_type": "code",
   "execution_count": 89,
   "metadata": {},
   "outputs": [],
   "source": [
    "#Predecimos\n",
    "rgst_y_test_pred = rgs_tree.predict(X_test)\n",
    "rgst_y_train_pred = rgs_tree.predict(X_train)"
   ]
  },
  {
   "cell_type": "code",
   "execution_count": 82,
   "metadata": {},
   "outputs": [],
   "source": [
    "# rmse\n",
    "# rgst_mse = mean_squared_error(y_test, rgst_y_test_pred)\n",
    "# rgst_rmse = np.sqrt(rgst_mse)\n",
    "# rgst_rmse\n",
    "rgst_rmse = 86862"
   ]
  },
  {
   "cell_type": "code",
   "execution_count": 83,
   "metadata": {},
   "outputs": [],
   "source": [
    "#r2\n",
    "# rgst_r2 = r2_score(y_test, rgst_y_test_pred)\n",
    "rgst_r2 = 0.76504"
   ]
  },
  {
   "cell_type": "markdown",
   "metadata": {
    "jupyter": {
     "source_hidden": true
    }
   },
   "source": [
    "<div style=\"background-color:bisque; padding: 10px 10px 10px 10px\">\n",
    "    <h4>Rendimiento de modelos</h4>\n",
    "    <h5>Modelos Básicos</h5>\n",
    "    <li><u>RMSE KNN Proyecto 01</u>: 171696</li>\n",
    "    <li><u>RMSE DT Proyecto 01</u>: 164100</li>\n",
    "    <li><u>RMSE KNN Proyecto 02</u>: 79486</li>\n",
    "    <li><u>RMSE DT Proyecto 02</u>: 78571</li>\n",
    "        <h5>Modelos Avanzados</h5>\n",
    "    <li><u>RMSE Bagging Proyecto 02</u>: 73057</li>\n",
    "    <li><u>RMSE RandomForest Proyecto 02</u>: 73057</li>\n",
    "    <li><u>RMSE Adaboost Proyecto 02</u>: 81121</li>\n",
    "    <li><u>RMSE XGBoost Proyecto 02</u>: 81121</li>\n",
    "    <h5>Con optimización de parámatros</h5>\n",
    "    <li><strong>RMSE RandomGridSearch Proyecto 02:</strong> 73057</li>\n",
    "    <hr>\n",
    "    <li><strong>Diferencia de + 100% </strong></li>\n",
    "</div>"
   ]
  },
  {
   "cell_type": "code",
   "execution_count": 84,
   "metadata": {},
   "outputs": [],
   "source": [
    "#lista de r2, rmse, modelos y otros datos\n",
    "r2_list.append(rgst_r2)\n",
    "rmse_list.append(rgst_rmse)\n",
    "models.append('rgst')\n",
    "projects.append('02')"
   ]
  },
  {
   "cell_type": "code",
   "execution_count": 85,
   "metadata": {},
   "outputs": [],
   "source": [
    "scoring = pd.DataFrame({'model':models,'rmse': rmse_list, 'project':projects, 'r2': r2_list})"
   ]
  },
  {
   "cell_type": "code",
   "execution_count": 86,
   "metadata": {},
   "outputs": [
    {
     "data": {
      "text/plain": [
       "Text(0.5, 1.0, 'Rendimiento de modelos - RMSE')"
      ]
     },
     "execution_count": 86,
     "metadata": {},
     "output_type": "execute_result"
    },
    {
     "data": {
      "image/png": "[encoded data removed]",
      "text/plain": [
       "<Figure size 1080x720 with 1 Axes>"
      ]
     },
     "metadata": {},
     "output_type": "display_data"
    }
   ],
   "source": [
    "plt.subplots(figsize=(15,10))\n",
    "sns.barplot(scoring.model, scoring.rmse, hue=scoring.project)\n",
    "plt.xticks(rotation=45)\n",
    "plt.title('Rendimiento de modelos - RMSE', size=22)"
   ]
  },
  {
   "cell_type": "markdown",
   "metadata": {},
   "source": [
    "### Validación cruzada + DecisionTree\n",
    "<div id=\"RGS\"></div>"
   ]
  },
  {
   "cell_type": "code",
   "execution_count": 397,
   "metadata": {},
   "outputs": [],
   "source": [
    "# Creación de modelo con validación cruzada\n",
    "cv_tree = tree.DecisionTreeRegressor(criterion='friedman_mse', max_depth = None, max_features= 6, min_samples_leaf=3).fit(X_train, y_train)"
   ]
  },
  {
   "cell_type": "code",
   "execution_count": 398,
   "metadata": {},
   "outputs": [
    {
     "data": {
      "text/plain": [
       "0.7574030341631286"
      ]
     },
     "execution_count": 398,
     "metadata": {},
     "output_type": "execute_result"
    }
   ],
   "source": [
    "cv_tree.score(X_test, y_test)"
   ]
  },
  {
   "cell_type": "code",
   "execution_count": 561,
   "metadata": {},
   "outputs": [],
   "source": [
    "from sklearn.model_selection import cross_val_score\n",
    "tree_scores = cross_val_score(cv_tree, X, y, cv=5)"
   ]
  },
  {
   "cell_type": "code",
   "execution_count": 562,
   "metadata": {},
   "outputs": [
    {
     "data": {
      "text/plain": [
       "array([0.74561555, 0.76701289, 0.74585225, 0.73753044, 0.77460015])"
      ]
     },
     "execution_count": 562,
     "metadata": {},
     "output_type": "execute_result"
    }
   ],
   "source": [
    "# Impresión de resultados\n",
    "tree_scores"
   ]
  },
  {
   "cell_type": "code",
   "execution_count": 556,
   "metadata": {},
   "outputs": [],
   "source": [
    "from sklearn.model_selection import cross_validate\n",
    "tree_scores = cross_validate(cv_tree, X, y, cv=5)"
   ]
  },
  {
   "cell_type": "code",
   "execution_count": 420,
   "metadata": {},
   "outputs": [
    {
     "name": "stdout",
     "output_type": "stream",
     "text": [
      "R2 Cross Validation Score =>   [0.74561555, 0.76701289, 0.74585225, 0.73753044, 0.77460015]\n"
     ]
    }
   ],
   "source": [
    "# r2\n",
    "print('R2 Cross Validation Score => ', ' [0.74561555, 0.76701289, 0.74585225, 0.73753044, 0.77460015]')"
   ]
  },
  {
   "cell_type": "code",
   "execution_count": 87,
   "metadata": {},
   "outputs": [
    {
     "data": {
      "text/html": [
       "<div>\n",
       "<style scoped>\n",
       "    .dataframe tbody tr th:only-of-type {\n",
       "        vertical-align: middle;\n",
       "    }\n",
       "\n",
       "    .dataframe tbody tr th {\n",
       "        vertical-align: top;\n",
       "    }\n",
       "\n",
       "    .dataframe thead th {\n",
       "        text-align: right;\n",
       "    }\n",
       "</style>\n",
       "<table border=\"1\" class=\"dataframe\">\n",
       "  <thead>\n",
       "    <tr style=\"text-align: right;\">\n",
       "      <th></th>\n",
       "      <th>model</th>\n",
       "      <th>rmse</th>\n",
       "      <th>project</th>\n",
       "      <th>r2</th>\n",
       "    </tr>\n",
       "  </thead>\n",
       "  <tbody>\n",
       "    <tr>\n",
       "      <th>0</th>\n",
       "      <td>knn</td>\n",
       "      <td>171000.000000</td>\n",
       "      <td>01</td>\n",
       "      <td>0.000000</td>\n",
       "    </tr>\n",
       "    <tr>\n",
       "      <th>1</th>\n",
       "      <td>dt</td>\n",
       "      <td>181000.000000</td>\n",
       "      <td>01</td>\n",
       "      <td>0.000000</td>\n",
       "    </tr>\n",
       "    <tr>\n",
       "      <th>2</th>\n",
       "      <td>knn</td>\n",
       "      <td>88558.563986</td>\n",
       "      <td>02</td>\n",
       "      <td>0.755777</td>\n",
       "    </tr>\n",
       "    <tr>\n",
       "      <th>3</th>\n",
       "      <td>dt</td>\n",
       "      <td>89724.473063</td>\n",
       "      <td>02</td>\n",
       "      <td>0.749304</td>\n",
       "    </tr>\n",
       "    <tr>\n",
       "      <th>4</th>\n",
       "      <td>bgg</td>\n",
       "      <td>82897.895558</td>\n",
       "      <td>02</td>\n",
       "      <td>0.786000</td>\n",
       "    </tr>\n",
       "    <tr>\n",
       "      <th>5</th>\n",
       "      <td>rf</td>\n",
       "      <td>82878.890555</td>\n",
       "      <td>02</td>\n",
       "      <td>0.786098</td>\n",
       "    </tr>\n",
       "    <tr>\n",
       "      <th>6</th>\n",
       "      <td>xgb</td>\n",
       "      <td>82004.143127</td>\n",
       "      <td>02</td>\n",
       "      <td>0.790590</td>\n",
       "    </tr>\n",
       "    <tr>\n",
       "      <th>7</th>\n",
       "      <td>rgst</td>\n",
       "      <td>86862.000000</td>\n",
       "      <td>02</td>\n",
       "      <td>0.765040</td>\n",
       "    </tr>\n",
       "  </tbody>\n",
       "</table>\n",
       "</div>"
      ],
      "text/plain": [
       "  model           rmse project        r2\n",
       "0   knn  171000.000000      01  0.000000\n",
       "1    dt  181000.000000      01  0.000000\n",
       "2   knn   88558.563986      02  0.755777\n",
       "3    dt   89724.473063      02  0.749304\n",
       "4   bgg   82897.895558      02  0.786000\n",
       "5    rf   82878.890555      02  0.786098\n",
       "6   xgb   82004.143127      02  0.790590\n",
       "7  rgst   86862.000000      02  0.765040"
      ]
     },
     "execution_count": 87,
     "metadata": {},
     "output_type": "execute_result"
    }
   ],
   "source": [
    "scoring"
   ]
  },
  {
   "cell_type": "markdown",
   "metadata": {},
   "source": [
    "<div style=\"background-color:bisque; padding: 10px 10px 10px 10px\">\n",
    "    <h1>Observaciones</h1>\n",
    "    <li>Hay una concordancia entre los valores de r2 y RMSE, en tanto que el primero es más alto cuando el segundo es más bajo</li>\n",
    "    <li>Como segunda métrica estipulada, el r2_score también nos comunica en este caso que el modelo más exitoso de entre los aquí producidos corresponde a los modelos basados en  <strong>Bagging</strong> y <strong>Random Forest</strong>. Vale notar que ambos modelos estuvieron basados en árboles de decisión. </li>\n",
    "    <li>De la misma manera, vale notar que en términos de <i>r2</i>, el rendimiento más alto lo alcanza el <strong>XGBoost</strong>. Es un poco sorprendente que en medido en RMSE su score no haya sido tan alto en comparación a los otros. </li>\n",
    "    <li>Sí vale mencionar que uno de los árboles arrojados por la crossValidation (el quinto), se lleva un r2 superior por una mínima diferencia. </li>\n",
    "    <hr>\n",
    "    <li>Dados estos resultados, parece óptimo quedarse con los modelos basados en <strong>Bagging</strong> y <strong>Random Forest</strong>. Su rendimiento es el más eficaz si se consideran en conjunto los resultados de R2 y RMSE.</li>\n",
    "    \n",
    "</div>"
   ]
  },
  {
   "cell_type": "markdown",
   "metadata": {},
   "source": [
    "<hr>"
   ]
  },
  {
   "cell_type": "markdown",
   "metadata": {},
   "source": [
    "## PARTE C - Interpretación de modelos\n",
    "\n",
    "De acuerdo a lo que el modelo permite, responde algunas o todas las siguientes preguntas:\n",
    "\n",
    "9. ¿Qué variables fueron relevantes para el modelo para hacer una predicción? ¿Cuáles no? Si usaste una regresión lineal con regularización, presta atención a los parámetros (pendientes) obtenidas. Si usaste un modelo de ensamble en árboles, además de ver la importancia de cada atributo, también elige algunos árboles al azar y observa qué atributos considera importantes. ¿En qué se diferencian esos árboles? ¿Por qué? Finalmente, responde, ¿coincide con lo que esperabas a partir de tu experiencia con este dataset?\n",
    "\n",
    "10. ¿Cómo es la distribución de errores (regresión) o qué clases se confunden entre sí (clasificación)? ¿Dónde falla? ¿A qué se debe?"
   ]
  },
  {
   "cell_type": "markdown",
   "metadata": {},
   "source": [
    "### Importancia de variables"
   ]
  },
  {
   "cell_type": "code",
   "execution_count": 97,
   "metadata": {},
   "outputs": [
    {
     "data": {
      "text/plain": [
       "Text(0.5, 1, 'Correlaciones entre variables en relación al PRECIO')"
      ]
     },
     "execution_count": 97,
     "metadata": {},
     "output_type": "execute_result"
    },
    {
     "data": {
      "image/png": "[encoded data removed]",
      "text/plain": [
       "<Figure size 432x288 with 2 Axes>"
      ]
     },
     "metadata": {},
     "output_type": "display_data"
    }
   ],
   "source": [
    "rdata_corr = df_4.corr() #obtengo un dataframe de correlatividades entre variables\n",
    "sns.heatmap(rdata_corr[['price']].sort_values(by=['price'], ascending= False),    # grafico el dataset de correlatividades en función de precio\n",
    "            vmin=-1, \n",
    "            cmap='coolwarm',\n",
    "            annot= True).set_title('Correlaciones entre variables en relación al PRECIO', size=25)"
   ]
  },
  {
   "cell_type": "markdown",
   "metadata": {},
   "source": [
    "### Análisis de árboles en Random Forest"
   ]
  },
  {
   "cell_type": "code",
   "execution_count": 88,
   "metadata": {},
   "outputs": [
    {
     "data": {
      "text/plain": [
       "RandomForestRegressor(bootstrap=True, ccp_alpha=0.0, criterion='mse',\n",
       "                      max_depth=None, max_features='auto', max_leaf_nodes=None,\n",
       "                      max_samples=None, min_impurity_decrease=0.0,\n",
       "                      min_impurity_split=None, min_samples_leaf=1,\n",
       "                      min_samples_split=2, min_weight_fraction_leaf=0.0,\n",
       "                      n_estimators=100, n_jobs=None, oob_score=False,\n",
       "                      random_state=42, verbose=0, warm_start=False)"
      ]
     },
     "execution_count": 88,
     "metadata": {},
     "output_type": "execute_result"
    }
   ],
   "source": [
    "rf_regr"
   ]
  },
  {
   "cell_type": "code",
   "execution_count": 89,
   "metadata": {},
   "outputs": [
    {
     "data": {
      "text/plain": [
       "array([0.8050942 , 0.04041527, 0.02600942, 0.0520873 , 0.00119398,\n",
       "       0.07295377, 0.00224606])"
      ]
     },
     "execution_count": 89,
     "metadata": {},
     "output_type": "execute_result"
    }
   ],
   "source": [
    "rf_regr.feature_importances_"
   ]
  },
  {
   "cell_type": "markdown",
   "metadata": {},
   "source": [
    "<div style=\"background-color:bisque; padding: 10px 10px 10px 10px\" >\n",
    "    <h4>Observaciones</h4>\n",
    "    <p>Como puede observarse, hay una importancia destacada en el primer atributo de entrenamiento, que en nuestro caso sería <strong><i>surface_covered</i></strong></p>\n",
    "    <p>La diferencia es tanta, que al parecer un modelo más ajustado quizás haya sido uno entrenado sólo con dicho atributo.</p>\n",
    "    <hr>\n",
    "    <p>Veamos qué sucede en algunos delos modelos específicos</p>\n",
    "</div>"
   ]
  },
  {
   "cell_type": "code",
   "execution_count": 111,
   "metadata": {},
   "outputs": [
    {
     "data": {
      "text/plain": [
       "array([0.50282742, 0.11486536, 0.26731835, 0.07165102, 0.01621875,\n",
       "       0.003322  , 0.02379711])"
      ]
     },
     "execution_count": 111,
     "metadata": {},
     "output_type": "execute_result"
    }
   ],
   "source": [
    "rf_regr.estimators_[0].feature_importances_"
   ]
  },
  {
   "cell_type": "code",
   "execution_count": 91,
   "metadata": {},
   "outputs": [
    {
     "data": {
      "text/plain": [
       "array([0.81656012, 0.03597519, 0.02694389, 0.05709492, 0.00097976,\n",
       "       0.06140207, 0.00104405])"
      ]
     },
     "execution_count": 91,
     "metadata": {},
     "output_type": "execute_result"
    }
   ],
   "source": [
    "rf_regr.estimators_[50].feature_importances_"
   ]
  },
  {
   "cell_type": "code",
   "execution_count": 92,
   "metadata": {},
   "outputs": [
    {
     "data": {
      "text/plain": [
       "array([0.80348418, 0.0403029 , 0.02623103, 0.04715948, 0.00117412,\n",
       "       0.07926718, 0.00238111])"
      ]
     },
     "execution_count": 92,
     "metadata": {},
     "output_type": "execute_result"
    }
   ],
   "source": [
    "rf_regr.estimators_[99].feature_importances_"
   ]
  },
  {
   "cell_type": "markdown",
   "metadata": {},
   "source": [
    "<div style=\"background-color:bisque; padding: 10px 10px 10px 10px\" >\n",
    "    A lo largo de los estimadores, se pude observar la misma prevalencia en la importancia d variables. \n",
    "    Dicha prevalencia también conincide con el primer gráfico de esta sección, donde se visualiza la preeminencia del atributo <i>surface_covered</i> en el peso de las predicciones.\n",
    "    <hr>\n",
    "    <p>Los árboles no parecieran distinguirse significativamente.</p>\n",
    "</div>"
   ]
  },
  {
   "cell_type": "markdown",
   "metadata": {},
   "source": [
    "### Distribución de errores\n",
    "<div style=\"background-color:lightgrey; padding: 10px 10px 10px 10px\" >\n",
    "    <h4>En random forest...</h4>\n",
    "    <p>Este ha sido uno de los mejores modelos entrenados en este proyecto, junto a los modelos hechos con base en Bagging y XGBoost.</p>\n",
    "    <p>Analizaremos un poco la distribución de errores en el mismo.</p>\n",
    "</div>"
   ]
  },
  {
   "cell_type": "code",
   "execution_count": 224,
   "metadata": {},
   "outputs": [
    {
     "data": {
      "image/png": "[encoded data removed]",
      "text/plain": [
       "<Figure size 432x288 with 1 Axes>"
      ]
     },
     "metadata": {},
     "output_type": "display_data"
    }
   ],
   "source": [
    "# Distribución de valores reales y predichos en random forest \n",
    "\n",
    "plt.hist(y_test,bins=20, alpha=0.7, label = 'y_test')\n",
    "plt.hist(rf_y_test_pred,bins=20, alpha=0.5, label = 'y_pred')\n",
    "\n",
    "plt.xlabel('Precios')\n",
    "plt.ylabel('Hist counter')\n",
    "plt.title('Distribución de precios test / pred')\n",
    "plt.legend(loc='upper right')\n",
    "plt.title('Distribución de valores reaes y predichos en random forest ', size=22)\n",
    "plt.show()"
   ]
  },
  {
   "cell_type": "code",
   "execution_count": 223,
   "metadata": {},
   "outputs": [
    {
     "data": {
      "image/png": "[encoded data removed]",
      "text/plain": [
       "<Figure size 432x288 with 1 Axes>"
      ]
     },
     "metadata": {},
     "output_type": "display_data"
    },
    {
     "name": "stdout",
     "output_type": "stream",
     "text": [
      "The model performance for testing set\n",
      "--------------------------------------\n",
      "MAE is 49282.50433962398\n",
      "MSE is  82964.76781953742\n",
      "R2 score is 0.7856548342916813\n"
     ]
    }
   ],
   "source": [
    "# Distancia entre valores reaes y predichos en random forest \n",
    "\n",
    "fig, ax = plt.subplots() \n",
    "ax.scatter(rf_y_test_pred, y_test, edgecolors=(0, 0, 1))\n",
    "ax.plot([y_test.min(), y_test.max()], [y_test.min(), y_test.max()], 'r--', lw=3)\n",
    "ax.set_xlabel('Predicted')\n",
    "ax.set_ylabel('Actual')\n",
    "plt.title('Distancia entre valores reaes y predichos en random forest ', size=22)\n",
    "plt.show()\n",
    "\n",
    "# model evaluation for testing set in RANDOM FOREST MODEL\n",
    "from sklearn import metrics\n",
    "\n",
    "mae = metrics.mean_absolute_error(y_test, rf_y_test_pred)\n",
    "mse = metrics.mean_squared_error(y_test, rf_y_test_pred)\n",
    "r2 = metrics.r2_score(y_test, rf_y_test_pred)\n",
    "\n",
    "print(\"The model performance for testing set\")\n",
    "print(\"--------------------------------------\")\n",
    "print('MAE is {}'.format(mae))\n",
    "print('MSE is ', (rf_rmse))\n",
    "print('R2 score is {}'.format(r2))"
   ]
  },
  {
   "cell_type": "markdown",
   "metadata": {},
   "source": [
    "<div style=\"background-color:bisque; padding: 10px 10px 10px 10px\" >\n",
    "    <p>Los errores parecieran ser mayores a mayor el valor del target, ya que una mayor concentración de valores correlacionados a la regresión son encontrados sobre todo a menores valores X.</p>\n",
    "    <p>Sin embargo, habría que notar que dicho crecimiento de la distancia entre los valores predichos se deba justamente al crecimiento del valor de la variable predictora.</p>\n",
    "    <p>Por lo que, con todo, podria apreciarse una uniformidad en los valores de predicción por sobre los valores actuaes..</p>\n",
    "</div>"
   ]
  },
  {
   "cell_type": "markdown",
   "metadata": {},
   "source": [
    "### Metodología y mejoras"
   ]
  },
  {
   "cell_type": "markdown",
   "metadata": {},
   "source": [
    "<div style=\"background-color:lightgrey; padding: 10px 10px 10px 10px\">\n",
    "    <div>\n",
    "    <h4>Modelos:</h4>\n",
    "<p>Si bien hubo ua mejora sustancial en el rendimiento de los modelos del proyecto 01 al presente, no se exploraron mucho las posibilidades de mejora en relación a hiperparámetros. Después de todo, la mejora viene dada fundamentalmente por los beneficios del preprocesamiento de datos.</p>\n",
    "\n",
    "<p>El problema adquiere un aspecto paradójico cuando analizamos los resultados de los modelos que justamente sí exploran variaciones en hiperparámetros. El trabajo hecho en RandomGridSearch no fue capaz de arrojar un mejor rendimiento que el logrado en los modelos de ensamble: Random Forest y Bagging.</p>\n",
    "\n",
    "<p>Asimismo, por otro lado, no se exploraró en todo el proyecto ningún modelo avanzado basado en KNN (más allá del imputer), siendo el modelo que mejor rendimiento tuvo en el proyecto anterior. </p>\n",
    "        <h4>Datos</h4>\n",
    "    <p>Se podría haber generado nuevas variables, como la relación precio/mt2. Esto nos podría haber servido para tener una variable predictore potenciamente beneficiosa para nuestros modelos, ya que es un dato que hace sentido por lo menos desde el conocmiento de campo y que podríamos haber obtenido fácilmente con una operación de pandas.</p> <p>Queda así mismo como una duda si habría sido pertinente realizar un encodign de la columna relativa a los \"barrios\", ya que sabemos que es un dato muy importante en la valuación de una propiedad. Así, un dato que nos resulta imprenscindible como usuarios del campo, como cuando buscamos comprar o alquilar una unidad, no fue considerado en la construcción de los diferntes modelos. El único consuelo ante semejante decisión pasa por el reconocimeitno que traería aparejado el crecimiento multidimensinal al agregar 57 columnas al dataset</p>\n",
    "    \n",
    "    \n",
    "</div>"
   ]
  },
  {
   "cell_type": "markdown",
   "metadata": {},
   "source": [
    "## DESAFÍO OPCIONAL\n",
    "\n",
    "Aplica una técnica de Clustering sobre el dataset. Puedes combinar con técnicas de reducción de dimensionalidad para facilitar la visualización. ¿Qué clusters encuentras? ¿A qué pueden corresponder? Te dejamos preguntas que pueden servir como disparadoras: ¿qué barrios se parecen más entre sí?¿qué tipos de propiedades se parecen más entre sí?"
   ]
  }
 ],
 "metadata": {
  "kernelspec": {
   "display_name": "Python 3",
   "language": "python",
   "name": "python3"
  },
  "language_info": {
   "codemirror_mode": {
    "name": "ipython",
    "version": 3
   },
   "file_extension": ".py",
   "mimetype": "text/x-python",
   "name": "python",
   "nbconvert_exporter": "python",
   "pygments_lexer": "ipython3",
   "version": "3.7.6"
  }
 },
 "nbformat": 4,
 "nbformat_minor": 4
}
